{
 "cells": [
  {
   "cell_type": "markdown",
   "id": "9a849a48-8935-4c77-9bd1-53194e0141a4",
   "metadata": {},
   "source": [
    "# Contents"
   ]
  },
  {
   "cell_type": "markdown",
   "id": "00d23fc5-472e-472d-90d9-139ba52addc1",
   "metadata": {},
   "source": [
    "Import Libraries"
   ]
  },
  {
   "cell_type": "markdown",
   "id": "5f63062a-6e19-4195-af62-e6101592d911",
   "metadata": {},
   "source": [
    "Step 1: Import the dataset"
   ]
  },
  {
   "cell_type": "markdown",
   "id": "42a16a62-28d4-405f-88ae-ba08e85c7fa5",
   "metadata": {},
   "source": [
    "Step 2: Addressing PII Data in the dataset"
   ]
  },
  {
   "cell_type": "markdown",
   "id": "f9a1ad74-6bce-4c9a-93ed-c4ed63d1212f",
   "metadata": {},
   "source": [
    "Step 3: Comparing customer behavior in different geographic areas\n",
    "- Create a new column named 'region' based on the state column\n",
    "- Determine whether there’s a difference in spending habits between the different U.S. regions\n",
    "- Visualization to compare customer behavior in different geographic areas"
   ]
  },
  {
   "cell_type": "markdown",
   "id": "0691048b-a684-4734-a1c9-6836f70c4003",
   "metadata": {},
   "source": [
    "Step 4: Create an exclusion flag for low-activity customers "
   ]
  },
  {
   "cell_type": "markdown",
   "id": "29be9b57-1d77-4a56-91c3-4f1159a32072",
   "metadata": {},
   "source": [
    "Step 5: Create profiling variables\n",
    "- 5.1: Profiling variable for the column 'age'\n",
    "- 5.2: Profiling variable for the column 'income'\n",
    "- 5.3: Profiling variable for the column 'n_dependants'"
   ]
  },
  {
   "cell_type": "markdown",
   "id": "6f59e8c7-ef0e-4425-a25b-bc28120f00d3",
   "metadata": {},
   "source": [
    "Step 6: Create appropriate visualizations to show the distribution of profiles\r",
    "- \t6.1 Visualization of age_grou\n",
    "- 6.2 Visualization of income_group\n",
    "- 6.3 Visualization of dependants_flagp"
   ]
  },
  {
   "cell_type": "markdown",
   "id": "80ef1b70-8b73-48f9-be81-4893ac57fc00",
   "metadata": {},
   "source": [
    "Step 7: Aggregate the max, mean, and min variables on a customer-profile level for usage frequency and expenditure\n",
    "- 7.1: Descriptive statistics of usage frequency and expenditure based on age groups\n",
    "- 7.2: Descriptive statistics of usage frequency and expenditure based on income groups\n",
    "- 7.3: Descriptive statistics of usage frequency and expenditure based on family dependancy."
   ]
  },
  {
   "cell_type": "markdown",
   "id": "eb30b971-b3b8-487a-a722-44a8d3ff1c03",
   "metadata": {},
   "source": [
    "Step 8: Compare your customer profiles with regions and departments\n",
    "- 8.1: Comparing customer profiles with Regions\n",
    "    - 8.1.1: Age_group Vs Regions\r",
    "    - \t8.1.2: Income_group Vs Region\n",
    "    - 8.1.3: Dependants Vs Regions ns"
   ]
  },
  {
   "cell_type": "code",
   "execution_count": null,
   "id": "34d7f02c-91e2-4fc0-b06e-227bc33989a1",
   "metadata": {},
   "outputs": [],
   "source": []
  },
  {
   "cell_type": "code",
   "execution_count": null,
   "id": "55025c98-bebd-41e4-bd94-079373ed3a00",
   "metadata": {},
   "outputs": [],
   "source": []
  },
  {
   "cell_type": "markdown",
   "id": "35159452-03e4-4a8a-ad98-804b2cc1c1b8",
   "metadata": {},
   "source": [
    "## Import Libraries"
   ]
  },
  {
   "cell_type": "code",
   "execution_count": 1,
   "id": "7b761106-9347-4ea3-ba00-17a02c685c8c",
   "metadata": {},
   "outputs": [],
   "source": [
    "# import the required libraries\n",
    "import pandas as pd\n",
    "import numpy as np\n",
    "import os\n",
    "import matplotlib.pyplot as plt\n",
    "import seaborn as sns\n",
    "import scipy"
   ]
  },
  {
   "cell_type": "markdown",
   "id": "3f90ee0f-ec26-4a2e-9d1f-2212ca6d7828",
   "metadata": {},
   "source": [
    "## Step 1: Import the data set "
   ]
  },
  {
   "cell_type": "code",
   "execution_count": 2,
   "id": "0672b862-8c35-4866-91a4-94e5c74e2e92",
   "metadata": {},
   "outputs": [],
   "source": [
    "# create a path variable\n",
    "path = r'C:\\Users\\Sreelakshmi\\Desktop\\Instacart Basket Analysis'\n",
    "\n",
    "# import the file orders_products_customer_combined.pkl into the data frame\n",
    "df_ords_prods_cust = pd.read_pickle(os.path.join(path, 'Data', 'Prepared Data', 'orders_products_customer_combined.pkl'))"
   ]
  },
  {
   "cell_type": "code",
   "execution_count": 3,
   "id": "bf6df02a-8c1a-491e-8053-3f823ea9e0eb",
   "metadata": {},
   "outputs": [
    {
     "data": {
      "text/html": [
       "<div>\n",
       "<style scoped>\n",
       "    .dataframe tbody tr th:only-of-type {\n",
       "        vertical-align: middle;\n",
       "    }\n",
       "\n",
       "    .dataframe tbody tr th {\n",
       "        vertical-align: top;\n",
       "    }\n",
       "\n",
       "    .dataframe thead th {\n",
       "        text-align: right;\n",
       "    }\n",
       "</style>\n",
       "<table border=\"1\" class=\"dataframe\">\n",
       "  <thead>\n",
       "    <tr style=\"text-align: right;\">\n",
       "      <th></th>\n",
       "      <th>order_id</th>\n",
       "      <th>user_id</th>\n",
       "      <th>order_number</th>\n",
       "      <th>order_days_of_week</th>\n",
       "      <th>order_hour_of_day</th>\n",
       "      <th>days_since_prior_order</th>\n",
       "      <th>product_id</th>\n",
       "      <th>add_to_cart_order</th>\n",
       "      <th>reordered</th>\n",
       "      <th>product_name</th>\n",
       "      <th>...</th>\n",
       "      <th>order_frequency_flag</th>\n",
       "      <th>first_name</th>\n",
       "      <th>surname</th>\n",
       "      <th>gender</th>\n",
       "      <th>state</th>\n",
       "      <th>age</th>\n",
       "      <th>n_dependants</th>\n",
       "      <th>family_status</th>\n",
       "      <th>income</th>\n",
       "      <th>check</th>\n",
       "    </tr>\n",
       "  </thead>\n",
       "  <tbody>\n",
       "    <tr>\n",
       "      <th>0</th>\n",
       "      <td>2539329</td>\n",
       "      <td>1</td>\n",
       "      <td>1</td>\n",
       "      <td>2</td>\n",
       "      <td>8</td>\n",
       "      <td>7.0</td>\n",
       "      <td>196</td>\n",
       "      <td>1</td>\n",
       "      <td>0</td>\n",
       "      <td>Soda</td>\n",
       "      <td>...</td>\n",
       "      <td>Regular customer</td>\n",
       "      <td>Linda</td>\n",
       "      <td>Nguyen</td>\n",
       "      <td>Female</td>\n",
       "      <td>Alabama</td>\n",
       "      <td>31</td>\n",
       "      <td>3</td>\n",
       "      <td>married</td>\n",
       "      <td>40423</td>\n",
       "      <td>both</td>\n",
       "    </tr>\n",
       "    <tr>\n",
       "      <th>1</th>\n",
       "      <td>2539329</td>\n",
       "      <td>1</td>\n",
       "      <td>1</td>\n",
       "      <td>2</td>\n",
       "      <td>8</td>\n",
       "      <td>7.0</td>\n",
       "      <td>14084</td>\n",
       "      <td>2</td>\n",
       "      <td>0</td>\n",
       "      <td>Organic Unsweetened Vanilla Almond Milk</td>\n",
       "      <td>...</td>\n",
       "      <td>Regular customer</td>\n",
       "      <td>Linda</td>\n",
       "      <td>Nguyen</td>\n",
       "      <td>Female</td>\n",
       "      <td>Alabama</td>\n",
       "      <td>31</td>\n",
       "      <td>3</td>\n",
       "      <td>married</td>\n",
       "      <td>40423</td>\n",
       "      <td>both</td>\n",
       "    </tr>\n",
       "    <tr>\n",
       "      <th>2</th>\n",
       "      <td>2539329</td>\n",
       "      <td>1</td>\n",
       "      <td>1</td>\n",
       "      <td>2</td>\n",
       "      <td>8</td>\n",
       "      <td>7.0</td>\n",
       "      <td>12427</td>\n",
       "      <td>3</td>\n",
       "      <td>0</td>\n",
       "      <td>Original Beef Jerky</td>\n",
       "      <td>...</td>\n",
       "      <td>Regular customer</td>\n",
       "      <td>Linda</td>\n",
       "      <td>Nguyen</td>\n",
       "      <td>Female</td>\n",
       "      <td>Alabama</td>\n",
       "      <td>31</td>\n",
       "      <td>3</td>\n",
       "      <td>married</td>\n",
       "      <td>40423</td>\n",
       "      <td>both</td>\n",
       "    </tr>\n",
       "    <tr>\n",
       "      <th>3</th>\n",
       "      <td>2539329</td>\n",
       "      <td>1</td>\n",
       "      <td>1</td>\n",
       "      <td>2</td>\n",
       "      <td>8</td>\n",
       "      <td>7.0</td>\n",
       "      <td>26088</td>\n",
       "      <td>4</td>\n",
       "      <td>0</td>\n",
       "      <td>Aged White Cheddar Popcorn</td>\n",
       "      <td>...</td>\n",
       "      <td>Regular customer</td>\n",
       "      <td>Linda</td>\n",
       "      <td>Nguyen</td>\n",
       "      <td>Female</td>\n",
       "      <td>Alabama</td>\n",
       "      <td>31</td>\n",
       "      <td>3</td>\n",
       "      <td>married</td>\n",
       "      <td>40423</td>\n",
       "      <td>both</td>\n",
       "    </tr>\n",
       "    <tr>\n",
       "      <th>4</th>\n",
       "      <td>2539329</td>\n",
       "      <td>1</td>\n",
       "      <td>1</td>\n",
       "      <td>2</td>\n",
       "      <td>8</td>\n",
       "      <td>7.0</td>\n",
       "      <td>26405</td>\n",
       "      <td>5</td>\n",
       "      <td>0</td>\n",
       "      <td>XL Pick-A-Size Paper Towel Rolls</td>\n",
       "      <td>...</td>\n",
       "      <td>Regular customer</td>\n",
       "      <td>Linda</td>\n",
       "      <td>Nguyen</td>\n",
       "      <td>Female</td>\n",
       "      <td>Alabama</td>\n",
       "      <td>31</td>\n",
       "      <td>3</td>\n",
       "      <td>married</td>\n",
       "      <td>40423</td>\n",
       "      <td>both</td>\n",
       "    </tr>\n",
       "  </tbody>\n",
       "</table>\n",
       "<p>5 rows × 32 columns</p>\n",
       "</div>"
      ],
      "text/plain": [
       "   order_id  user_id  order_number  order_days_of_week  order_hour_of_day  \\\n",
       "0   2539329        1             1                   2                  8   \n",
       "1   2539329        1             1                   2                  8   \n",
       "2   2539329        1             1                   2                  8   \n",
       "3   2539329        1             1                   2                  8   \n",
       "4   2539329        1             1                   2                  8   \n",
       "\n",
       "   days_since_prior_order  product_id  add_to_cart_order  reordered  \\\n",
       "0                     7.0         196                  1          0   \n",
       "1                     7.0       14084                  2          0   \n",
       "2                     7.0       12427                  3          0   \n",
       "3                     7.0       26088                  4          0   \n",
       "4                     7.0       26405                  5          0   \n",
       "\n",
       "                              product_name  ...  order_frequency_flag  \\\n",
       "0                                     Soda  ...      Regular customer   \n",
       "1  Organic Unsweetened Vanilla Almond Milk  ...      Regular customer   \n",
       "2                      Original Beef Jerky  ...      Regular customer   \n",
       "3               Aged White Cheddar Popcorn  ...      Regular customer   \n",
       "4         XL Pick-A-Size Paper Towel Rolls  ...      Regular customer   \n",
       "\n",
       "   first_name  surname  gender    state age n_dependants  family_status  \\\n",
       "0       Linda   Nguyen  Female  Alabama  31            3        married   \n",
       "1       Linda   Nguyen  Female  Alabama  31            3        married   \n",
       "2       Linda   Nguyen  Female  Alabama  31            3        married   \n",
       "3       Linda   Nguyen  Female  Alabama  31            3        married   \n",
       "4       Linda   Nguyen  Female  Alabama  31            3        married   \n",
       "\n",
       "  income  check  \n",
       "0  40423   both  \n",
       "1  40423   both  \n",
       "2  40423   both  \n",
       "3  40423   both  \n",
       "4  40423   both  \n",
       "\n",
       "[5 rows x 32 columns]"
      ]
     },
     "execution_count": 3,
     "metadata": {},
     "output_type": "execute_result"
    }
   ],
   "source": [
    "df_ords_prods_cust.head()"
   ]
  },
  {
   "cell_type": "markdown",
   "id": "c2334a25-fccd-4a93-ba17-04239c1f3518",
   "metadata": {},
   "source": [
    "## Step 2: Addressing PII Data in the dataset"
   ]
  },
  {
   "cell_type": "markdown",
   "id": "ecde69e5-8af3-435b-8cab-1a2b59b97871",
   "metadata": {},
   "source": [
    "#### Answer: \n",
    "#### As values in the first_name and surname can be traced back to a particular person, it is clearly evident that PII (personally identifiable information) is present in the dataset. To address this situation, we need to remove these columns as these are sensitive information and for our current analysis these values are not required."
   ]
  },
  {
   "cell_type": "code",
   "execution_count": 4,
   "id": "da54f0ae-69c3-4f29-b0b1-e5a438f212d2",
   "metadata": {},
   "outputs": [],
   "source": [
    "# dropping the columns first_name and surname from the dataframe\n",
    "df_ords_prods_cust = df_ords_prods_cust.drop(columns = ['first_name', 'surname'])"
   ]
  },
  {
   "cell_type": "code",
   "execution_count": 5,
   "id": "98d7e57e-2a29-4e5d-9e45-70fe659c6bd7",
   "metadata": {},
   "outputs": [
    {
     "data": {
      "text/plain": [
       "Index(['order_id', 'user_id', 'order_number', 'order_days_of_week',\n",
       "       'order_hour_of_day', 'days_since_prior_order', 'product_id',\n",
       "       'add_to_cart_order', 'reordered', 'product_name', 'aisle_id',\n",
       "       'department_id', 'prices', '_merge', 'price_range_loc', 'busiest_days',\n",
       "       'busiest_period_of_day', 'max_order', 'loyalty_flag', 'average_spend',\n",
       "       'spending_flag', 'day_prior_order_median', 'order_frequency_flag',\n",
       "       'gender', 'state', 'age', 'n_dependants', 'family_status', 'income',\n",
       "       'check'],\n",
       "      dtype='object')"
      ]
     },
     "execution_count": 5,
     "metadata": {},
     "output_type": "execute_result"
    }
   ],
   "source": [
    "# checking the columns in the dataframe\n",
    "df_ords_prods_cust.columns"
   ]
  },
  {
   "cell_type": "markdown",
   "id": "423bac42-20c7-4e14-8451-176c9d912b41",
   "metadata": {},
   "source": [
    "## Step 3: Comparing customer behavior in different geographic areas"
   ]
  },
  {
   "cell_type": "markdown",
   "id": "82da8d7b-c7d5-4be9-b400-dd648e35c928",
   "metadata": {},
   "source": [
    "#### a) Create a new column named 'region' based on the state column"
   ]
  },
  {
   "cell_type": "code",
   "execution_count": 6,
   "id": "4bbbdf85-2f8a-4045-b198-7ed7c3eb8d72",
   "metadata": {},
   "outputs": [],
   "source": [
    "# create the list of 4 regions\n",
    "Northeast = ['Connecticut', 'Maine', 'Massachusetts', 'New Hampshire', 'New Jersey', 'New York', 'Pennsylvania', 'Rhode Island', 'Vermont']\n",
    "Midwest = ['Wisconsin', 'Michigan', 'Illinois', 'Indiana', 'Ohio', 'North Dakota', 'South Dakota', 'Nebraska', 'Kansas', 'Minnesota', 'Iowa', 'Missouri']\n",
    "South = ['Delaware', 'Maryland', 'District of Columbia', 'Virginia', 'West Virginia', 'North Carolina', 'South Carolina', 'Georgia', 'Florida', 'Kentucky', 'Tennessee', 'Mississippi', 'Alabama', 'Oklahoma', 'Texas', 'Arkansas', 'Louisiana']\n",
    "West = ['Idaho', 'Montana', 'Wyoming', 'Nevada', 'Utah', 'Colorado', 'Arizona', 'New Mexico', 'Alaska', 'Washington', 'Oregon', 'California', 'Hawaii']"
   ]
  },
  {
   "cell_type": "code",
   "execution_count": 7,
   "id": "7077a468-bc50-4ccf-a36c-6f26bdc081de",
   "metadata": {},
   "outputs": [
    {
     "data": {
      "text/plain": [
       "region\n",
       "South        10791885\n",
       "West          8292913\n",
       "Midwest       7597325\n",
       "Northeast     5722736\n",
       "Name: count, dtype: int64"
      ]
     },
     "execution_count": 7,
     "metadata": {},
     "output_type": "execute_result"
    }
   ],
   "source": [
    "# deriving the column 'region' with loc()\n",
    "df_ords_prods_cust.loc[df_ords_prods_cust['state'].isin(Northeast),'region'] = 'Northeast'\n",
    "df_ords_prods_cust.loc[df_ords_prods_cust['state'].isin(Midwest),'region'] = 'Midwest'\n",
    "df_ords_prods_cust.loc[df_ords_prods_cust['state'].isin(South),'region'] = 'South'\n",
    "df_ords_prods_cust.loc[df_ords_prods_cust['state'].isin(West),'region'] = 'West'\n",
    "\n",
    "# displaying the contents of the column region\n",
    "df_ords_prods_cust['region'].value_counts(dropna = False)"
   ]
  },
  {
   "cell_type": "markdown",
   "id": "5a8ec2d7-ee54-4241-8fea-31e19cd6ee74",
   "metadata": {},
   "source": [
    "#### b) Determine whether there’s a difference in spending habits between the different U.S. regions"
   ]
  },
  {
   "cell_type": "code",
   "execution_count": 8,
   "id": "11547fbe-cc46-4274-b2a6-ffbb49587881",
   "metadata": {},
   "outputs": [
    {
     "data": {
      "text/html": [
       "<div>\n",
       "<style scoped>\n",
       "    .dataframe tbody tr th:only-of-type {\n",
       "        vertical-align: middle;\n",
       "    }\n",
       "\n",
       "    .dataframe tbody tr th {\n",
       "        vertical-align: top;\n",
       "    }\n",
       "\n",
       "    .dataframe thead th {\n",
       "        text-align: right;\n",
       "    }\n",
       "</style>\n",
       "<table border=\"1\" class=\"dataframe\">\n",
       "  <thead>\n",
       "    <tr style=\"text-align: right;\">\n",
       "      <th>spending_flag</th>\n",
       "      <th>High spender</th>\n",
       "      <th>Low spender</th>\n",
       "    </tr>\n",
       "    <tr>\n",
       "      <th>region</th>\n",
       "      <th></th>\n",
       "      <th></th>\n",
       "    </tr>\n",
       "  </thead>\n",
       "  <tbody>\n",
       "    <tr>\n",
       "      <th>Midwest</th>\n",
       "      <td>155975</td>\n",
       "      <td>7441350</td>\n",
       "    </tr>\n",
       "    <tr>\n",
       "      <th>Northeast</th>\n",
       "      <td>108225</td>\n",
       "      <td>5614511</td>\n",
       "    </tr>\n",
       "    <tr>\n",
       "      <th>South</th>\n",
       "      <td>209676</td>\n",
       "      <td>10582209</td>\n",
       "    </tr>\n",
       "    <tr>\n",
       "      <th>West</th>\n",
       "      <td>160354</td>\n",
       "      <td>8132559</td>\n",
       "    </tr>\n",
       "  </tbody>\n",
       "</table>\n",
       "</div>"
      ],
      "text/plain": [
       "spending_flag  High spender  Low spender\n",
       "region                                  \n",
       "Midwest              155975      7441350\n",
       "Northeast            108225      5614511\n",
       "South                209676     10582209\n",
       "West                 160354      8132559"
      ]
     },
     "execution_count": 8,
     "metadata": {},
     "output_type": "execute_result"
    }
   ],
   "source": [
    "# using crosstabs to check the spending habits between the different US Regions\n",
    "crosstab = pd.crosstab(df_ords_prods_cust['region'], df_ords_prods_cust['spending_flag'], dropna = False)\n",
    "crosstab"
   ]
  },
  {
   "cell_type": "markdown",
   "id": "c92e474f-4e8d-484a-9bc4-ccb52b56ba1d",
   "metadata": {},
   "source": [
    "#### Answer:\n",
    "#### From the above cross tab we can infer that, the highest and number of High spender and Low spender are from South region. Northeast is having least number of High Spender and Low spenders compared to other regions\n",
    "\n",
    "##### High Spender: South > West > Midwest > Northeast\n",
    "##### Low Spender:  South > West > Midwest > Northeast\n"
   ]
  },
  {
   "cell_type": "markdown",
   "id": "8ee3dcac-4d8d-4d2b-bcda-f8a0ac5ee068",
   "metadata": {},
   "source": [
    "#### c) Visualization to compare customer behavior in different geographic areas"
   ]
  },
  {
   "cell_type": "code",
   "execution_count": 9,
   "id": "90dd45f1-009a-4b91-b0bb-af1ed41bfab7",
   "metadata": {},
   "outputs": [
    {
     "name": "stdout",
     "output_type": "stream",
     "text": [
      "['Solarize_Light2', '_classic_test_patch', '_mpl-gallery', '_mpl-gallery-nogrid', 'bmh', 'classic', 'dark_background', 'fast', 'fivethirtyeight', 'ggplot', 'grayscale', 'seaborn-v0_8', 'seaborn-v0_8-bright', 'seaborn-v0_8-colorblind', 'seaborn-v0_8-dark', 'seaborn-v0_8-dark-palette', 'seaborn-v0_8-darkgrid', 'seaborn-v0_8-deep', 'seaborn-v0_8-muted', 'seaborn-v0_8-notebook', 'seaborn-v0_8-paper', 'seaborn-v0_8-pastel', 'seaborn-v0_8-poster', 'seaborn-v0_8-talk', 'seaborn-v0_8-ticks', 'seaborn-v0_8-white', 'seaborn-v0_8-whitegrid', 'tableau-colorblind10']\n"
     ]
    }
   ],
   "source": [
    "print(plt.style.available)\n",
    "plt.style.use('seaborn-v0_8-dark-palette')\n"
   ]
  },
  {
   "cell_type": "code",
   "execution_count": 10,
   "id": "eb77cbd5-c885-4c35-b442-fd6172bd0cc8",
   "metadata": {},
   "outputs": [
    {
     "data": {
      "image/png": "[encoded data removed]",
      "text/plain": [
       "<Figure size 1000x500 with 1 Axes>"
      ]
     },
     "metadata": {},
     "output_type": "display_data"
    }
   ],
   "source": [
    "crosstab = crosstab.sort_values(['High spender'], ascending=False)\n",
    "\n",
    "mycolors = ['#6d6875','#e5989b']\n",
    "#create a stacked bar chart\n",
    "bar_cust_spending_region = crosstab.plot(kind = 'bar', stacked = True, title = 'Customer spending habits among different U.S. Regions', xlabel = 'Regions', ylabel = 'Number of Customers', color = mycolors, figsize = (10,5))\n",
    "# rotating the xlabel for readability\n",
    "plt.xticks(rotation=360, ha='center')\n",
    "plt.savefig(os.path.join(path, 'Analysis', 'Visualizations', 'ordering_and_region.png')) # Save\n",
    "plt.show()"
   ]
  },
  {
   "cell_type": "markdown",
   "id": "8e4f3ffb-e5d1-485c-86c9-1e760548b7fc",
   "metadata": {},
   "source": [
    "## Step 4: Create an exclusion flag for low-activity customers (customers with less than 5 orders) and exclude them from the data"
   ]
  },
  {
   "cell_type": "code",
   "execution_count": 11,
   "id": "cf4c51e7-96cb-438b-a9c5-fa259525db81",
   "metadata": {},
   "outputs": [
    {
     "data": {
      "text/plain": [
       "exclusion_flag\n",
       "False    30964564\n",
       "True      1440295\n",
       "Name: count, dtype: int64"
      ]
     },
     "execution_count": 11,
     "metadata": {},
     "output_type": "execute_result"
    }
   ],
   "source": [
    "# create a new column named 'exclusion flag'  and exclude the customers if max_order < 5\n",
    "df_ords_prods_cust.loc[df_ords_prods_cust['max_order'] < 5, 'exclusion_flag'] = True\n",
    "\n",
    "# include the customers of max_order >= 5\n",
    "df_ords_prods_cust.loc[df_ords_prods_cust['max_order'] >= 5, 'exclusion_flag'] = False\n",
    "df_ords_prods_cust['exclusion_flag'].value_counts(dropna = False)"
   ]
  },
  {
   "cell_type": "code",
   "execution_count": 12,
   "id": "41361d1b-53d5-41e6-bf50-9a423065462c",
   "metadata": {},
   "outputs": [],
   "source": [
    "#create a new dataframe which contains only customers with an exclusion_flag = 1\n",
    "df_insta_new = df_ords_prods_cust[df_ords_prods_cust['exclusion_flag'] == False]"
   ]
  },
  {
   "cell_type": "code",
   "execution_count": 13,
   "id": "f14db522-9c23-4d32-a540-220a985aa490",
   "metadata": {},
   "outputs": [
    {
     "data": {
      "text/plain": [
       "(30964564, 32)"
      ]
     },
     "execution_count": 13,
     "metadata": {},
     "output_type": "execute_result"
    }
   ],
   "source": [
    "# checking the number of records after removing the customers who are not active\n",
    "df_insta_new.shape"
   ]
  },
  {
   "cell_type": "code",
   "execution_count": 14,
   "id": "ed780aa2-9104-4856-91d2-a6c6c3d0e27a",
   "metadata": {},
   "outputs": [],
   "source": [
    "#export the new sample to a pickle file\n",
    "df_insta_new.to_pickle(os.path.join(path, 'Data', 'Prepared Data', 'instacart_sample.pkl'))"
   ]
  },
  {
   "cell_type": "markdown",
   "id": "37c0d5f8-05d2-449b-91ea-195f797407e7",
   "metadata": {},
   "source": [
    "## Step 5: Create profiling variables"
   ]
  },
  {
   "cell_type": "markdown",
   "id": "df1e6530-1eaa-49eb-814b-7f293df610a0",
   "metadata": {},
   "source": [
    "#### 5.1: Profiling variable for the column 'age'"
   ]
  },
  {
   "cell_type": "code",
   "execution_count": 15,
   "id": "a9298228-48a1-49d1-8aa8-e7f05196d82c",
   "metadata": {},
   "outputs": [
    {
     "name": "stderr",
     "output_type": "stream",
     "text": [
      "C:\\Users\\Sreelakshmi\\AppData\\Local\\Temp\\ipykernel_15740\\4102634007.py:2: SettingWithCopyWarning: \n",
      "A value is trying to be set on a copy of a slice from a DataFrame.\n",
      "Try using .loc[row_indexer,col_indexer] = value instead\n",
      "\n",
      "See the caveats in the documentation: https://pandas.pydata.org/pandas-docs/stable/user_guide/indexing.html#returning-a-view-versus-a-copy\n",
      "  df_insta_new.loc[df_insta_new['age'] < 30, 'age_group'] = 'Young Adults'\n"
     ]
    },
    {
     "data": {
      "text/plain": [
       "age_group\n",
       "Adults          16951417\n",
       "Elderly          8195544\n",
       "Young Adults     5817603\n",
       "Name: count, dtype: int64"
      ]
     },
     "execution_count": 15,
     "metadata": {},
     "output_type": "execute_result"
    }
   ],
   "source": [
    "# create a new column named 'age_group' based on the values in the column 'age'\n",
    "df_insta_new.loc[df_insta_new['age'] < 30, 'age_group'] = 'Young Adults'\n",
    "df_insta_new.loc[(df_insta_new['age'] >= 30) & (df_insta_new['age'] < 65), 'age_group'] = 'Adults'\n",
    "df_insta_new.loc[df_insta_new['age'] >= 65, 'age_group'] = 'Elderly'\n",
    "\n",
    "#checking the frequency of the newly created column 'age_group'\n",
    "df_insta_new['age_group'].value_counts(dropna = False)"
   ]
  },
  {
   "cell_type": "markdown",
   "id": "fcbd0bbd-16cf-446e-9e88-7a942746181e",
   "metadata": {},
   "source": [
    "#### 5.2: Profiling variable for the column 'income'"
   ]
  },
  {
   "cell_type": "code",
   "execution_count": 16,
   "id": "abf2e3ee-be6c-44a8-8c1c-edb2d79c5a58",
   "metadata": {},
   "outputs": [
    {
     "data": {
      "text/plain": [
       "count    3.096456e+07\n",
       "mean     9.967587e+04\n",
       "std      4.314187e+04\n",
       "min      2.590300e+04\n",
       "25%      6.729200e+04\n",
       "50%      9.676500e+04\n",
       "75%      1.281020e+05\n",
       "max      5.939010e+05\n",
       "Name: income, dtype: float64"
      ]
     },
     "execution_count": 16,
     "metadata": {},
     "output_type": "execute_result"
    }
   ],
   "source": [
    "df_insta_new['income'].describe()"
   ]
  },
  {
   "cell_type": "code",
   "execution_count": 17,
   "id": "b1e65386-f0c7-4dd6-8112-11f5e11aa669",
   "metadata": {},
   "outputs": [
    {
     "name": "stderr",
     "output_type": "stream",
     "text": [
      "C:\\Users\\Sreelakshmi\\AppData\\Local\\Temp\\ipykernel_15740\\2213306454.py:2: SettingWithCopyWarning: \n",
      "A value is trying to be set on a copy of a slice from a DataFrame.\n",
      "Try using .loc[row_indexer,col_indexer] = value instead\n",
      "\n",
      "See the caveats in the documentation: https://pandas.pydata.org/pandas-docs/stable/user_guide/indexing.html#returning-a-view-versus-a-copy\n",
      "  df_insta_new.loc[df_insta_new['income'] < 50000, 'income_group'] = 'Low'\n"
     ]
    },
    {
     "data": {
      "text/plain": [
       "income_group\n",
       "High      14207402\n",
       "Medium    13394608\n",
       "Low        3362554\n",
       "Name: count, dtype: int64"
      ]
     },
     "execution_count": 17,
     "metadata": {},
     "output_type": "execute_result"
    }
   ],
   "source": [
    "# create a new column named 'income_group' based on the values in the column 'income'\n",
    "df_insta_new.loc[df_insta_new['income'] < 50000, 'income_group'] = 'Low'\n",
    "df_insta_new.loc[(df_insta_new['income'] >= 50000) & (df_insta_new['income'] < 100000), 'income_group'] = 'Medium'\n",
    "df_insta_new.loc[df_insta_new['income'] >= 100000, 'income_group'] = 'High'\n",
    "\n",
    "#checking the frequency of the newly created column 'age_group'\n",
    "df_insta_new['income_group'].value_counts(dropna = False)"
   ]
  },
  {
   "cell_type": "markdown",
   "id": "4bc65147-822d-498a-bdc4-60c9fa0b5941",
   "metadata": {},
   "source": [
    "#### 5.3: Profiling variable for the column 'n_dependants'"
   ]
  },
  {
   "cell_type": "code",
   "execution_count": 18,
   "id": "af3a00ec-8d73-497d-967c-3ceab9c9dc6a",
   "metadata": {},
   "outputs": [
    {
     "data": {
      "text/plain": [
       "count    3.096456e+07\n",
       "mean     1.501819e+00\n",
       "std      1.118896e+00\n",
       "min      0.000000e+00\n",
       "25%      1.000000e+00\n",
       "50%      2.000000e+00\n",
       "75%      3.000000e+00\n",
       "max      3.000000e+00\n",
       "Name: n_dependants, dtype: float64"
      ]
     },
     "execution_count": 18,
     "metadata": {},
     "output_type": "execute_result"
    }
   ],
   "source": [
    "df_insta_new['n_dependants'].describe()"
   ]
  },
  {
   "cell_type": "code",
   "execution_count": 19,
   "id": "a12a72d6-ab63-4e66-a8a8-62a874f98c9f",
   "metadata": {},
   "outputs": [
    {
     "name": "stderr",
     "output_type": "stream",
     "text": [
      "C:\\Users\\Sreelakshmi\\AppData\\Local\\Temp\\ipykernel_15740\\4078114858.py:2: SettingWithCopyWarning: \n",
      "A value is trying to be set on a copy of a slice from a DataFrame.\n",
      "Try using .loc[row_indexer,col_indexer] = value instead\n",
      "\n",
      "See the caveats in the documentation: https://pandas.pydata.org/pandas-docs/stable/user_guide/indexing.html#returning-a-view-versus-a-copy\n",
      "  df_insta_new.loc[df_insta_new['n_dependants'] == 0, 'dependants_flag'] = 'No dependants'\n"
     ]
    },
    {
     "data": {
      "text/plain": [
       "dependants_flag\n",
       "Has dependants    23224883\n",
       "No dependants      7739681\n",
       "Name: count, dtype: int64"
      ]
     },
     "execution_count": 19,
     "metadata": {},
     "output_type": "execute_result"
    }
   ],
   "source": [
    "# create a new column named 'dependants_flag' based on the values in the column 'n_dependants'\n",
    "df_insta_new.loc[df_insta_new['n_dependants'] == 0, 'dependants_flag'] = 'No dependants'\n",
    "df_insta_new.loc[df_insta_new['n_dependants'] > 0, 'dependants_flag'] = 'Has dependants'\n",
    "\n",
    "#checking the frequency of the newly created column 'age_group'\n",
    "df_insta_new['dependants_flag'].value_counts(dropna = False)"
   ]
  },
  {
   "cell_type": "markdown",
   "id": "9dedb98d-6e62-425a-9df7-d25ec30f4eab",
   "metadata": {},
   "source": [
    "## Step 6: Create appropriate visualizations to show the distribution of profiles"
   ]
  },
  {
   "cell_type": "code",
   "execution_count": 20,
   "id": "b512e552-9ffd-4920-8598-727e20ef560b",
   "metadata": {},
   "outputs": [
    {
     "data": {
      "text/html": [
       "<div>\n",
       "<style scoped>\n",
       "    .dataframe tbody tr th:only-of-type {\n",
       "        vertical-align: middle;\n",
       "    }\n",
       "\n",
       "    .dataframe tbody tr th {\n",
       "        vertical-align: top;\n",
       "    }\n",
       "\n",
       "    .dataframe thead th {\n",
       "        text-align: right;\n",
       "    }\n",
       "</style>\n",
       "<table border=\"1\" class=\"dataframe\">\n",
       "  <thead>\n",
       "    <tr style=\"text-align: right;\">\n",
       "      <th></th>\n",
       "      <th>age_group</th>\n",
       "      <th>income_group</th>\n",
       "      <th>dependants_flag</th>\n",
       "      <th>region</th>\n",
       "    </tr>\n",
       "  </thead>\n",
       "  <tbody>\n",
       "    <tr>\n",
       "      <th>0</th>\n",
       "      <td>Adults</td>\n",
       "      <td>Low</td>\n",
       "      <td>Has dependants</td>\n",
       "      <td>South</td>\n",
       "    </tr>\n",
       "    <tr>\n",
       "      <th>1</th>\n",
       "      <td>Adults</td>\n",
       "      <td>Low</td>\n",
       "      <td>Has dependants</td>\n",
       "      <td>South</td>\n",
       "    </tr>\n",
       "    <tr>\n",
       "      <th>2</th>\n",
       "      <td>Adults</td>\n",
       "      <td>Low</td>\n",
       "      <td>Has dependants</td>\n",
       "      <td>South</td>\n",
       "    </tr>\n",
       "    <tr>\n",
       "      <th>3</th>\n",
       "      <td>Adults</td>\n",
       "      <td>Low</td>\n",
       "      <td>Has dependants</td>\n",
       "      <td>South</td>\n",
       "    </tr>\n",
       "    <tr>\n",
       "      <th>4</th>\n",
       "      <td>Adults</td>\n",
       "      <td>Low</td>\n",
       "      <td>Has dependants</td>\n",
       "      <td>South</td>\n",
       "    </tr>\n",
       "  </tbody>\n",
       "</table>\n",
       "</div>"
      ],
      "text/plain": [
       "  age_group income_group dependants_flag region\n",
       "0    Adults          Low  Has dependants  South\n",
       "1    Adults          Low  Has dependants  South\n",
       "2    Adults          Low  Has dependants  South\n",
       "3    Adults          Low  Has dependants  South\n",
       "4    Adults          Low  Has dependants  South"
      ]
     },
     "execution_count": 20,
     "metadata": {},
     "output_type": "execute_result"
    }
   ],
   "source": [
    "# create a sample dataframe which contains only the required columns for visualization\n",
    "\n",
    "df_sample_visual = df_insta_new[['age_group', 'income_group', 'dependants_flag', 'region']]\n",
    "df_sample_visual.head()"
   ]
  },
  {
   "cell_type": "markdown",
   "id": "f7f6d037-34b2-411b-af69-951e7b25ffa0",
   "metadata": {},
   "source": [
    "#### 6.1 Visualization of age_group"
   ]
  },
  {
   "cell_type": "code",
   "execution_count": 21,
   "id": "2735f2c2-46e1-4f2d-9c35-2f59d13b7564",
   "metadata": {},
   "outputs": [
    {
     "data": {
      "image/png": "[encoded data removed]",
      "text/plain": [
       "<Figure size 1000x800 with 1 Axes>"
      ]
     },
     "metadata": {},
     "output_type": "display_data"
    }
   ],
   "source": [
    "#create age_groups\n",
    "age_group_counts = df_sample_visual['age_group'].value_counts()\n",
    "mycolors = [\"#774c60\", \"#b75d69\", \"#eacdc2\"]\n",
    "\n",
    "#Pie Chart\n",
    "plt.figure(figsize = (10,8))\n",
    "plt.pie(age_group_counts, #data\n",
    "        labels = age_group_counts.index, #labels\n",
    "        colors = mycolors, #colors\n",
    "        autopct = '%.0f%%', # text labels\n",
    "        textprops=dict(color='k', weight='bold', fontsize=11), #text properties\n",
    "        wedgeprops = {'edgecolor' : 'black'} # boarders\n",
    "       )\n",
    "plt.title('Instacart distribution of Customers by Age Group') # title\n",
    "plt.legend(title = 'Age Groups') # legends\n",
    "plt.savefig(os.path.join(path, 'Analysis', 'Visualizations', 'customers_age_groups_pie_chart.png')) # Save\n",
    "plt.show()"
   ]
  },
  {
   "cell_type": "markdown",
   "id": "f3ca3c6b-0a40-4c9d-b921-ac8762210b73",
   "metadata": {},
   "source": [
    "#### 6.2 Visualization of income_group"
   ]
  },
  {
   "cell_type": "code",
   "execution_count": 62,
   "id": "42dac6b0-b806-4bf5-9483-4af2b50c1218",
   "metadata": {},
   "outputs": [
    {
     "data": {
      "image/png": "[encoded data removed]",
      "text/plain": [
       "<Figure size 1000x900 with 1 Axes>"
      ]
     },
     "metadata": {},
     "output_type": "display_data"
    }
   ],
   "source": [
    "# create a bar chart to visualize only the column income group\n",
    "Income_bar_chart = df_sample_visual['income_group'].value_counts().plot.barh(xlabel = 'Number of customers', ylabel = 'Level of Income', title = 'Instacart distribution of income among customers', figsize = (10,9), color = ['#f95738', '#ee964b', '#f4d35e'])\n",
    "\n",
    "# saving the bar chart\n",
    "Income_bar_chart.figure.savefig(os.path.join(path, 'Analysis','Visualizations', 'income_distribution_bar_chart.png'))"
   ]
  },
  {
   "cell_type": "markdown",
   "id": "6819262c-caf1-4436-8290-b5beeeb58966",
   "metadata": {},
   "source": [
    "#### 6.3 Visualization of dependants_flag"
   ]
  },
  {
   "cell_type": "code",
   "execution_count": 23,
   "id": "5f85d746-c19d-4583-acf3-d8523eec5bf8",
   "metadata": {},
   "outputs": [
    {
     "data": {
      "image/png": "[encoded data removed]",
      "text/plain": [
       "<Figure size 1000x800 with 1 Axes>"
      ]
     },
     "metadata": {},
     "output_type": "display_data"
    }
   ],
   "source": [
    "#create dependents frewuency distribution\n",
    "dependant_flag_counts = df_sample_visual['dependants_flag'].value_counts()\n",
    "\n",
    "#pie chart\n",
    "mycolors = [\"#c04b2f\", \"#4e5349\"]\n",
    "\n",
    "plt.figure(figsize = (10,8))\n",
    "plt.pie(dependant_flag_counts,#data\n",
    "        labels = dependant_flag_counts.index,\n",
    "        colors = mycolors,\n",
    "        autopct = '%.0f%%', # text labels\n",
    "        textprops=dict(color='k', weight='bold', fontsize=10), #text properties\n",
    "        wedgeprops = {'edgecolor' : 'black'} # boarders\n",
    "       )\n",
    "\n",
    "plt.title('Instacart distribution of customers with and without dependants') # title\n",
    "plt.legend()\n",
    "plt.savefig(os.path.join(path, 'Analysis', 'Visualizations', 'customers_dependants_pie_chart.png')) # Save\n",
    "plt.show()"
   ]
  },
  {
   "cell_type": "markdown",
   "id": "4ab33873-24ab-4015-b4f8-05f77209c80f",
   "metadata": {},
   "source": [
    "## Step 7: Aggregate the max, mean, and min variables on a customer-profile level for usage frequency and expenditure"
   ]
  },
  {
   "cell_type": "code",
   "execution_count": 24,
   "id": "690943bb-dd5a-479e-bbed-aaea110de3a2",
   "metadata": {},
   "outputs": [
    {
     "data": {
      "text/plain": [
       "order_id                     int64\n",
       "user_id                      int64\n",
       "order_number                 int64\n",
       "order_days_of_week           int64\n",
       "order_hour_of_day            int64\n",
       "days_since_prior_order     float64\n",
       "product_id                   int64\n",
       "add_to_cart_order            int64\n",
       "reordered                    int64\n",
       "product_name                object\n",
       "aisle_id                     int64\n",
       "department_id                int64\n",
       "prices                     float64\n",
       "_merge                    category\n",
       "price_range_loc             object\n",
       "busiest_days                object\n",
       "busiest_period_of_day       object\n",
       "max_order                    int64\n",
       "loyalty_flag                object\n",
       "average_spend              float64\n",
       "spending_flag               object\n",
       "day_prior_order_median     float64\n",
       "order_frequency_flag        object\n",
       "gender                      object\n",
       "state                       object\n",
       "age                          int64\n",
       "n_dependants                 int64\n",
       "family_status               object\n",
       "income                       int64\n",
       "check                     category\n",
       "region                      object\n",
       "exclusion_flag              object\n",
       "age_group                   object\n",
       "income_group                object\n",
       "dependants_flag             object\n",
       "dtype: object"
      ]
     },
     "execution_count": 24,
     "metadata": {},
     "output_type": "execute_result"
    }
   ],
   "source": [
    "df_insta_new.dtypes"
   ]
  },
  {
   "cell_type": "code",
   "execution_count": 25,
   "id": "bda598ab-f172-4459-8a8a-cc78d4818a17",
   "metadata": {},
   "outputs": [
    {
     "data": {
      "text/plain": [
       "count    3.096456e+07\n",
       "mean     1.193352e+01\n",
       "std      4.913444e+02\n",
       "min      1.000000e+00\n",
       "25%      4.200000e+00\n",
       "50%      7.400000e+00\n",
       "75%      1.130000e+01\n",
       "max      9.999900e+04\n",
       "Name: prices, dtype: float64"
      ]
     },
     "execution_count": 25,
     "metadata": {},
     "output_type": "execute_result"
    }
   ],
   "source": [
    "df_insta_new['prices'].describe()"
   ]
  },
  {
   "cell_type": "code",
   "execution_count": 26,
   "id": "43c08e38-964a-46a9-9d7b-6387df500513",
   "metadata": {},
   "outputs": [
    {
     "data": {
      "text/html": [
       "<div>\n",
       "<style scoped>\n",
       "    .dataframe tbody tr th:only-of-type {\n",
       "        vertical-align: middle;\n",
       "    }\n",
       "\n",
       "    .dataframe tbody tr th {\n",
       "        vertical-align: top;\n",
       "    }\n",
       "\n",
       "    .dataframe thead th {\n",
       "        text-align: right;\n",
       "    }\n",
       "</style>\n",
       "<table border=\"1\" class=\"dataframe\">\n",
       "  <thead>\n",
       "    <tr style=\"text-align: right;\">\n",
       "      <th></th>\n",
       "      <th>user_id</th>\n",
       "      <th>prices</th>\n",
       "    </tr>\n",
       "  </thead>\n",
       "  <tbody>\n",
       "    <tr>\n",
       "      <th>128911</th>\n",
       "      <td>873</td>\n",
       "      <td>99999.0</td>\n",
       "    </tr>\n",
       "    <tr>\n",
       "      <th>128924</th>\n",
       "      <td>873</td>\n",
       "      <td>99999.0</td>\n",
       "    </tr>\n",
       "    <tr>\n",
       "      <th>284218</th>\n",
       "      <td>1893</td>\n",
       "      <td>99999.0</td>\n",
       "    </tr>\n",
       "    <tr>\n",
       "      <th>284229</th>\n",
       "      <td>1893</td>\n",
       "      <td>99999.0</td>\n",
       "    </tr>\n",
       "    <tr>\n",
       "      <th>284252</th>\n",
       "      <td>1893</td>\n",
       "      <td>99999.0</td>\n",
       "    </tr>\n",
       "    <tr>\n",
       "      <th>...</th>\n",
       "      <td>...</td>\n",
       "      <td>...</td>\n",
       "    </tr>\n",
       "    <tr>\n",
       "      <th>32079919</th>\n",
       "      <td>204099</td>\n",
       "      <td>99999.0</td>\n",
       "    </tr>\n",
       "    <tr>\n",
       "      <th>32079936</th>\n",
       "      <td>204099</td>\n",
       "      <td>99999.0</td>\n",
       "    </tr>\n",
       "    <tr>\n",
       "      <th>32125745</th>\n",
       "      <td>204395</td>\n",
       "      <td>99999.0</td>\n",
       "    </tr>\n",
       "    <tr>\n",
       "      <th>32255078</th>\n",
       "      <td>205227</td>\n",
       "      <td>99999.0</td>\n",
       "    </tr>\n",
       "    <tr>\n",
       "      <th>32255132</th>\n",
       "      <td>205227</td>\n",
       "      <td>99999.0</td>\n",
       "    </tr>\n",
       "  </tbody>\n",
       "</table>\n",
       "<p>654 rows × 2 columns</p>\n",
       "</div>"
      ],
      "text/plain": [
       "          user_id   prices\n",
       "128911        873  99999.0\n",
       "128924        873  99999.0\n",
       "284218       1893  99999.0\n",
       "284229       1893  99999.0\n",
       "284252       1893  99999.0\n",
       "...           ...      ...\n",
       "32079919   204099  99999.0\n",
       "32079936   204099  99999.0\n",
       "32125745   204395  99999.0\n",
       "32255078   205227  99999.0\n",
       "32255132   205227  99999.0\n",
       "\n",
       "[654 rows x 2 columns]"
      ]
     },
     "execution_count": 26,
     "metadata": {},
     "output_type": "execute_result"
    }
   ],
   "source": [
    "max_value = df_insta_new['prices'].max()\n",
    "max_value\n",
    "df_max_prices = df_insta_new[df_insta_new['prices'] == 99999.0]\n",
    "df_max_prices[['user_id', 'prices']]"
   ]
  },
  {
   "cell_type": "code",
   "execution_count": 27,
   "id": "9172c986-45d2-4756-b74c-3c6fc1683393",
   "metadata": {},
   "outputs": [],
   "source": [
    "# find out the total expenditure for each user_id\n",
    "df_new_subset = df_insta_new.groupby(['user_id', 'age_group', 'income_group', 'dependants_flag', 'loyalty_flag', 'region', 'order_number', 'days_since_prior_order'])['prices'].sum().reset_index()"
   ]
  },
  {
   "cell_type": "code",
   "execution_count": 28,
   "id": "9d5b549c-d31c-4ad0-a4c2-7cad33148cdf",
   "metadata": {},
   "outputs": [
    {
     "data": {
      "text/html": [
       "<div>\n",
       "<style scoped>\n",
       "    .dataframe tbody tr th:only-of-type {\n",
       "        vertical-align: middle;\n",
       "    }\n",
       "\n",
       "    .dataframe tbody tr th {\n",
       "        vertical-align: top;\n",
       "    }\n",
       "\n",
       "    .dataframe thead th {\n",
       "        text-align: right;\n",
       "    }\n",
       "</style>\n",
       "<table border=\"1\" class=\"dataframe\">\n",
       "  <thead>\n",
       "    <tr style=\"text-align: right;\">\n",
       "      <th></th>\n",
       "      <th>user_id</th>\n",
       "      <th>age_group</th>\n",
       "      <th>income_group</th>\n",
       "      <th>dependants_flag</th>\n",
       "      <th>loyalty_flag</th>\n",
       "      <th>region</th>\n",
       "      <th>order_number</th>\n",
       "      <th>days_since_prior_order</th>\n",
       "      <th>total_expenditure</th>\n",
       "    </tr>\n",
       "  </thead>\n",
       "  <tbody>\n",
       "    <tr>\n",
       "      <th>0</th>\n",
       "      <td>1</td>\n",
       "      <td>Adults</td>\n",
       "      <td>Low</td>\n",
       "      <td>Has dependants</td>\n",
       "      <td>New customer</td>\n",
       "      <td>South</td>\n",
       "      <td>1</td>\n",
       "      <td>7.0</td>\n",
       "      <td>31.6</td>\n",
       "    </tr>\n",
       "    <tr>\n",
       "      <th>1</th>\n",
       "      <td>1</td>\n",
       "      <td>Adults</td>\n",
       "      <td>Low</td>\n",
       "      <td>Has dependants</td>\n",
       "      <td>New customer</td>\n",
       "      <td>South</td>\n",
       "      <td>2</td>\n",
       "      <td>15.0</td>\n",
       "      <td>35.4</td>\n",
       "    </tr>\n",
       "    <tr>\n",
       "      <th>2</th>\n",
       "      <td>1</td>\n",
       "      <td>Adults</td>\n",
       "      <td>Low</td>\n",
       "      <td>Has dependants</td>\n",
       "      <td>New customer</td>\n",
       "      <td>South</td>\n",
       "      <td>3</td>\n",
       "      <td>21.0</td>\n",
       "      <td>28.2</td>\n",
       "    </tr>\n",
       "    <tr>\n",
       "      <th>3</th>\n",
       "      <td>1</td>\n",
       "      <td>Adults</td>\n",
       "      <td>Low</td>\n",
       "      <td>Has dependants</td>\n",
       "      <td>New customer</td>\n",
       "      <td>South</td>\n",
       "      <td>4</td>\n",
       "      <td>29.0</td>\n",
       "      <td>26.0</td>\n",
       "    </tr>\n",
       "    <tr>\n",
       "      <th>4</th>\n",
       "      <td>1</td>\n",
       "      <td>Adults</td>\n",
       "      <td>Low</td>\n",
       "      <td>Has dependants</td>\n",
       "      <td>New customer</td>\n",
       "      <td>South</td>\n",
       "      <td>5</td>\n",
       "      <td>28.0</td>\n",
       "      <td>57.0</td>\n",
       "    </tr>\n",
       "    <tr>\n",
       "      <th>...</th>\n",
       "      <td>...</td>\n",
       "      <td>...</td>\n",
       "      <td>...</td>\n",
       "      <td>...</td>\n",
       "      <td>...</td>\n",
       "      <td>...</td>\n",
       "      <td>...</td>\n",
       "      <td>...</td>\n",
       "      <td>...</td>\n",
       "    </tr>\n",
       "    <tr>\n",
       "      <th>3064370</th>\n",
       "      <td>206209</td>\n",
       "      <td>Elderly</td>\n",
       "      <td>High</td>\n",
       "      <td>Has dependants</td>\n",
       "      <td>Regular customer</td>\n",
       "      <td>Midwest</td>\n",
       "      <td>9</td>\n",
       "      <td>22.0</td>\n",
       "      <td>26.2</td>\n",
       "    </tr>\n",
       "    <tr>\n",
       "      <th>3064371</th>\n",
       "      <td>206209</td>\n",
       "      <td>Elderly</td>\n",
       "      <td>High</td>\n",
       "      <td>Has dependants</td>\n",
       "      <td>Regular customer</td>\n",
       "      <td>Midwest</td>\n",
       "      <td>10</td>\n",
       "      <td>29.0</td>\n",
       "      <td>64.7</td>\n",
       "    </tr>\n",
       "    <tr>\n",
       "      <th>3064372</th>\n",
       "      <td>206209</td>\n",
       "      <td>Elderly</td>\n",
       "      <td>High</td>\n",
       "      <td>Has dependants</td>\n",
       "      <td>Regular customer</td>\n",
       "      <td>Midwest</td>\n",
       "      <td>11</td>\n",
       "      <td>30.0</td>\n",
       "      <td>56.1</td>\n",
       "    </tr>\n",
       "    <tr>\n",
       "      <th>3064373</th>\n",
       "      <td>206209</td>\n",
       "      <td>Elderly</td>\n",
       "      <td>High</td>\n",
       "      <td>Has dependants</td>\n",
       "      <td>Regular customer</td>\n",
       "      <td>Midwest</td>\n",
       "      <td>12</td>\n",
       "      <td>18.0</td>\n",
       "      <td>131.5</td>\n",
       "    </tr>\n",
       "    <tr>\n",
       "      <th>3064374</th>\n",
       "      <td>206209</td>\n",
       "      <td>Elderly</td>\n",
       "      <td>High</td>\n",
       "      <td>Has dependants</td>\n",
       "      <td>Regular customer</td>\n",
       "      <td>Midwest</td>\n",
       "      <td>13</td>\n",
       "      <td>7.0</td>\n",
       "      <td>61.2</td>\n",
       "    </tr>\n",
       "  </tbody>\n",
       "</table>\n",
       "<p>3064375 rows × 9 columns</p>\n",
       "</div>"
      ],
      "text/plain": [
       "         user_id age_group income_group dependants_flag      loyalty_flag  \\\n",
       "0              1    Adults          Low  Has dependants      New customer   \n",
       "1              1    Adults          Low  Has dependants      New customer   \n",
       "2              1    Adults          Low  Has dependants      New customer   \n",
       "3              1    Adults          Low  Has dependants      New customer   \n",
       "4              1    Adults          Low  Has dependants      New customer   \n",
       "...          ...       ...          ...             ...               ...   \n",
       "3064370   206209   Elderly         High  Has dependants  Regular customer   \n",
       "3064371   206209   Elderly         High  Has dependants  Regular customer   \n",
       "3064372   206209   Elderly         High  Has dependants  Regular customer   \n",
       "3064373   206209   Elderly         High  Has dependants  Regular customer   \n",
       "3064374   206209   Elderly         High  Has dependants  Regular customer   \n",
       "\n",
       "          region  order_number  days_since_prior_order  total_expenditure  \n",
       "0          South             1                     7.0               31.6  \n",
       "1          South             2                    15.0               35.4  \n",
       "2          South             3                    21.0               28.2  \n",
       "3          South             4                    29.0               26.0  \n",
       "4          South             5                    28.0               57.0  \n",
       "...          ...           ...                     ...                ...  \n",
       "3064370  Midwest             9                    22.0               26.2  \n",
       "3064371  Midwest            10                    29.0               64.7  \n",
       "3064372  Midwest            11                    30.0               56.1  \n",
       "3064373  Midwest            12                    18.0              131.5  \n",
       "3064374  Midwest            13                     7.0               61.2  \n",
       "\n",
       "[3064375 rows x 9 columns]"
      ]
     },
     "execution_count": 28,
     "metadata": {},
     "output_type": "execute_result"
    }
   ],
   "source": [
    "# Rename 'prices' to 'order_total'\n",
    "df_new_subset.rename(columns = {'prices' : 'total_expenditure'}, inplace = True)\n",
    "# Check subset\n",
    "df_new_subset"
   ]
  },
  {
   "cell_type": "markdown",
   "id": "89134cf2-80d3-45bd-ad45-a443f49da5d9",
   "metadata": {},
   "source": [
    "### 7.1: Descriptive statistics of usage frequency and expenditure based on age groups"
   ]
  },
  {
   "cell_type": "code",
   "execution_count": 29,
   "id": "7cb180b4-a3b8-41a2-8aa2-311a7416d3f1",
   "metadata": {},
   "outputs": [
    {
     "data": {
      "text/html": [
       "<div>\n",
       "<style scoped>\n",
       "    .dataframe tbody tr th:only-of-type {\n",
       "        vertical-align: middle;\n",
       "    }\n",
       "\n",
       "    .dataframe tbody tr th {\n",
       "        vertical-align: top;\n",
       "    }\n",
       "\n",
       "    .dataframe thead tr th {\n",
       "        text-align: left;\n",
       "    }\n",
       "\n",
       "    .dataframe thead tr:last-of-type th {\n",
       "        text-align: right;\n",
       "    }\n",
       "</style>\n",
       "<table border=\"1\" class=\"dataframe\">\n",
       "  <thead>\n",
       "    <tr>\n",
       "      <th></th>\n",
       "      <th colspan=\"3\" halign=\"left\">days_since_prior_order</th>\n",
       "      <th colspan=\"3\" halign=\"left\">total_expenditure</th>\n",
       "    </tr>\n",
       "    <tr>\n",
       "      <th></th>\n",
       "      <th>min</th>\n",
       "      <th>mean</th>\n",
       "      <th>max</th>\n",
       "      <th>min</th>\n",
       "      <th>mean</th>\n",
       "      <th>max</th>\n",
       "    </tr>\n",
       "    <tr>\n",
       "      <th>age_group</th>\n",
       "      <th></th>\n",
       "      <th></th>\n",
       "      <th></th>\n",
       "      <th></th>\n",
       "      <th></th>\n",
       "      <th></th>\n",
       "    </tr>\n",
       "  </thead>\n",
       "  <tbody>\n",
       "    <tr>\n",
       "      <th>Adults</th>\n",
       "      <td>0.0</td>\n",
       "      <td>10.207296</td>\n",
       "      <td>30.0</td>\n",
       "      <td>1.0</td>\n",
       "      <td>120.543697</td>\n",
       "      <td>100452.9</td>\n",
       "    </tr>\n",
       "    <tr>\n",
       "      <th>Elderly</th>\n",
       "      <td>0.0</td>\n",
       "      <td>10.193160</td>\n",
       "      <td>30.0</td>\n",
       "      <td>1.0</td>\n",
       "      <td>118.277401</td>\n",
       "      <td>100330.2</td>\n",
       "    </tr>\n",
       "    <tr>\n",
       "      <th>Young Adults</th>\n",
       "      <td>0.0</td>\n",
       "      <td>10.220646</td>\n",
       "      <td>30.0</td>\n",
       "      <td>1.0</td>\n",
       "      <td>123.988244</td>\n",
       "      <td>100311.3</td>\n",
       "    </tr>\n",
       "  </tbody>\n",
       "</table>\n",
       "</div>"
      ],
      "text/plain": [
       "             days_since_prior_order                  total_expenditure  \\\n",
       "                                min       mean   max               min   \n",
       "age_group                                                                \n",
       "Adults                          0.0  10.207296  30.0               1.0   \n",
       "Elderly                         0.0  10.193160  30.0               1.0   \n",
       "Young Adults                    0.0  10.220646  30.0               1.0   \n",
       "\n",
       "                                    \n",
       "                    mean       max  \n",
       "age_group                           \n",
       "Adults        120.543697  100452.9  \n",
       "Elderly       118.277401  100330.2  \n",
       "Young Adults  123.988244  100311.3  "
      ]
     },
     "execution_count": 29,
     "metadata": {},
     "output_type": "execute_result"
    }
   ],
   "source": [
    "# max, min, mean by age category\n",
    "aggregations_by_age_cat = df_new_subset.groupby('age_group').agg({'days_since_prior_order' : ['min', 'mean', 'max'], \n",
    "                                                                  'total_expenditure' : ['min', 'mean', 'max']})\n",
    "# Check\n",
    "aggregations_by_age_cat"
   ]
  },
  {
   "cell_type": "markdown",
   "id": "da8023de-eae8-4b19-bd9e-91a40abe2373",
   "metadata": {},
   "source": [
    "#### Note: The max value of total expenditure seems relative high. This needs to be checked."
   ]
  },
  {
   "cell_type": "code",
   "execution_count": 30,
   "id": "a85750fc-47ec-4f2c-b174-9f133807d746",
   "metadata": {},
   "outputs": [],
   "source": [
    "# get the records which has prices above 50\n",
    "df_high_prices = df_insta_new.loc[df_insta_new['prices'] > 50]\n",
    "df_high_prices\n",
    "df_high_prices.to_csv(os.path.join(path, 'Data', 'Original data', 'df_high_prices.csv'))"
   ]
  },
  {
   "cell_type": "code",
   "execution_count": 31,
   "id": "58aa95a9-da41-49cc-a217-b504a815e8f2",
   "metadata": {},
   "outputs": [
    {
     "data": {
      "text/plain": [
       "count    3.096456e+07\n",
       "mean     7.789587e+00\n",
       "std      4.241015e+00\n",
       "min      9.900000e-01\n",
       "25%      4.200000e+00\n",
       "50%      7.400000e+00\n",
       "75%      1.130000e+01\n",
       "max      2.500000e+01\n",
       "Name: prices, dtype: float64"
      ]
     },
     "execution_count": 31,
     "metadata": {},
     "output_type": "execute_result"
    }
   ],
   "source": [
    "#It is found that 14900 and 99999 are the prices above 50. So correcting the price range\n",
    "df_insta_new.loc[df_insta_new['prices'] == 14900, 'prices'] = 1.49\n",
    "df_insta_new.loc[df_insta_new['prices'] == 99999, 'prices'] = 0.99\n",
    "df_insta_new['prices'].describe()"
   ]
  },
  {
   "cell_type": "code",
   "execution_count": 32,
   "id": "44b79754-e4d2-4ea3-9e2d-e122be7fdd7e",
   "metadata": {},
   "outputs": [],
   "source": [
    "# find out the total expenditure for each user_id\n",
    "df_new_subset = df_insta_new.groupby(['user_id', 'age_group', 'income_group', 'dependants_flag', 'loyalty_flag', 'region', 'order_number', 'days_since_prior_order'])['prices'].sum().reset_index()"
   ]
  },
  {
   "cell_type": "code",
   "execution_count": 33,
   "id": "341aad28-aff9-4ee1-9b2c-30e5f4d0a314",
   "metadata": {},
   "outputs": [
    {
     "data": {
      "text/html": [
       "<div>\n",
       "<style scoped>\n",
       "    .dataframe tbody tr th:only-of-type {\n",
       "        vertical-align: middle;\n",
       "    }\n",
       "\n",
       "    .dataframe tbody tr th {\n",
       "        vertical-align: top;\n",
       "    }\n",
       "\n",
       "    .dataframe thead th {\n",
       "        text-align: right;\n",
       "    }\n",
       "</style>\n",
       "<table border=\"1\" class=\"dataframe\">\n",
       "  <thead>\n",
       "    <tr style=\"text-align: right;\">\n",
       "      <th></th>\n",
       "      <th>user_id</th>\n",
       "      <th>age_group</th>\n",
       "      <th>income_group</th>\n",
       "      <th>dependants_flag</th>\n",
       "      <th>loyalty_flag</th>\n",
       "      <th>region</th>\n",
       "      <th>order_number</th>\n",
       "      <th>days_since_prior_order</th>\n",
       "      <th>total_expenditure</th>\n",
       "    </tr>\n",
       "  </thead>\n",
       "  <tbody>\n",
       "    <tr>\n",
       "      <th>0</th>\n",
       "      <td>1</td>\n",
       "      <td>Adults</td>\n",
       "      <td>Low</td>\n",
       "      <td>Has dependants</td>\n",
       "      <td>New customer</td>\n",
       "      <td>South</td>\n",
       "      <td>1</td>\n",
       "      <td>7.0</td>\n",
       "      <td>31.6</td>\n",
       "    </tr>\n",
       "    <tr>\n",
       "      <th>1</th>\n",
       "      <td>1</td>\n",
       "      <td>Adults</td>\n",
       "      <td>Low</td>\n",
       "      <td>Has dependants</td>\n",
       "      <td>New customer</td>\n",
       "      <td>South</td>\n",
       "      <td>2</td>\n",
       "      <td>15.0</td>\n",
       "      <td>35.4</td>\n",
       "    </tr>\n",
       "    <tr>\n",
       "      <th>2</th>\n",
       "      <td>1</td>\n",
       "      <td>Adults</td>\n",
       "      <td>Low</td>\n",
       "      <td>Has dependants</td>\n",
       "      <td>New customer</td>\n",
       "      <td>South</td>\n",
       "      <td>3</td>\n",
       "      <td>21.0</td>\n",
       "      <td>28.2</td>\n",
       "    </tr>\n",
       "    <tr>\n",
       "      <th>3</th>\n",
       "      <td>1</td>\n",
       "      <td>Adults</td>\n",
       "      <td>Low</td>\n",
       "      <td>Has dependants</td>\n",
       "      <td>New customer</td>\n",
       "      <td>South</td>\n",
       "      <td>4</td>\n",
       "      <td>29.0</td>\n",
       "      <td>26.0</td>\n",
       "    </tr>\n",
       "    <tr>\n",
       "      <th>4</th>\n",
       "      <td>1</td>\n",
       "      <td>Adults</td>\n",
       "      <td>Low</td>\n",
       "      <td>Has dependants</td>\n",
       "      <td>New customer</td>\n",
       "      <td>South</td>\n",
       "      <td>5</td>\n",
       "      <td>28.0</td>\n",
       "      <td>57.0</td>\n",
       "    </tr>\n",
       "    <tr>\n",
       "      <th>...</th>\n",
       "      <td>...</td>\n",
       "      <td>...</td>\n",
       "      <td>...</td>\n",
       "      <td>...</td>\n",
       "      <td>...</td>\n",
       "      <td>...</td>\n",
       "      <td>...</td>\n",
       "      <td>...</td>\n",
       "      <td>...</td>\n",
       "    </tr>\n",
       "    <tr>\n",
       "      <th>3064370</th>\n",
       "      <td>206209</td>\n",
       "      <td>Elderly</td>\n",
       "      <td>High</td>\n",
       "      <td>Has dependants</td>\n",
       "      <td>Regular customer</td>\n",
       "      <td>Midwest</td>\n",
       "      <td>9</td>\n",
       "      <td>22.0</td>\n",
       "      <td>26.2</td>\n",
       "    </tr>\n",
       "    <tr>\n",
       "      <th>3064371</th>\n",
       "      <td>206209</td>\n",
       "      <td>Elderly</td>\n",
       "      <td>High</td>\n",
       "      <td>Has dependants</td>\n",
       "      <td>Regular customer</td>\n",
       "      <td>Midwest</td>\n",
       "      <td>10</td>\n",
       "      <td>29.0</td>\n",
       "      <td>64.7</td>\n",
       "    </tr>\n",
       "    <tr>\n",
       "      <th>3064372</th>\n",
       "      <td>206209</td>\n",
       "      <td>Elderly</td>\n",
       "      <td>High</td>\n",
       "      <td>Has dependants</td>\n",
       "      <td>Regular customer</td>\n",
       "      <td>Midwest</td>\n",
       "      <td>11</td>\n",
       "      <td>30.0</td>\n",
       "      <td>56.1</td>\n",
       "    </tr>\n",
       "    <tr>\n",
       "      <th>3064373</th>\n",
       "      <td>206209</td>\n",
       "      <td>Elderly</td>\n",
       "      <td>High</td>\n",
       "      <td>Has dependants</td>\n",
       "      <td>Regular customer</td>\n",
       "      <td>Midwest</td>\n",
       "      <td>12</td>\n",
       "      <td>18.0</td>\n",
       "      <td>131.5</td>\n",
       "    </tr>\n",
       "    <tr>\n",
       "      <th>3064374</th>\n",
       "      <td>206209</td>\n",
       "      <td>Elderly</td>\n",
       "      <td>High</td>\n",
       "      <td>Has dependants</td>\n",
       "      <td>Regular customer</td>\n",
       "      <td>Midwest</td>\n",
       "      <td>13</td>\n",
       "      <td>7.0</td>\n",
       "      <td>61.2</td>\n",
       "    </tr>\n",
       "  </tbody>\n",
       "</table>\n",
       "<p>3064375 rows × 9 columns</p>\n",
       "</div>"
      ],
      "text/plain": [
       "         user_id age_group income_group dependants_flag      loyalty_flag  \\\n",
       "0              1    Adults          Low  Has dependants      New customer   \n",
       "1              1    Adults          Low  Has dependants      New customer   \n",
       "2              1    Adults          Low  Has dependants      New customer   \n",
       "3              1    Adults          Low  Has dependants      New customer   \n",
       "4              1    Adults          Low  Has dependants      New customer   \n",
       "...          ...       ...          ...             ...               ...   \n",
       "3064370   206209   Elderly         High  Has dependants  Regular customer   \n",
       "3064371   206209   Elderly         High  Has dependants  Regular customer   \n",
       "3064372   206209   Elderly         High  Has dependants  Regular customer   \n",
       "3064373   206209   Elderly         High  Has dependants  Regular customer   \n",
       "3064374   206209   Elderly         High  Has dependants  Regular customer   \n",
       "\n",
       "          region  order_number  days_since_prior_order  total_expenditure  \n",
       "0          South             1                     7.0               31.6  \n",
       "1          South             2                    15.0               35.4  \n",
       "2          South             3                    21.0               28.2  \n",
       "3          South             4                    29.0               26.0  \n",
       "4          South             5                    28.0               57.0  \n",
       "...          ...           ...                     ...                ...  \n",
       "3064370  Midwest             9                    22.0               26.2  \n",
       "3064371  Midwest            10                    29.0               64.7  \n",
       "3064372  Midwest            11                    30.0               56.1  \n",
       "3064373  Midwest            12                    18.0              131.5  \n",
       "3064374  Midwest            13                     7.0               61.2  \n",
       "\n",
       "[3064375 rows x 9 columns]"
      ]
     },
     "execution_count": 33,
     "metadata": {},
     "output_type": "execute_result"
    }
   ],
   "source": [
    "# Rename 'prices' to 'order_total'\n",
    "df_new_subset.rename(columns = {'prices' : 'total_expenditure'}, inplace = True)\n",
    "# Check subset\n",
    "df_new_subset"
   ]
  },
  {
   "cell_type": "code",
   "execution_count": 34,
   "id": "e3030f5b-a1f4-4423-8925-bd8cfb603a8b",
   "metadata": {},
   "outputs": [
    {
     "data": {
      "text/html": [
       "<div>\n",
       "<style scoped>\n",
       "    .dataframe tbody tr th:only-of-type {\n",
       "        vertical-align: middle;\n",
       "    }\n",
       "\n",
       "    .dataframe tbody tr th {\n",
       "        vertical-align: top;\n",
       "    }\n",
       "\n",
       "    .dataframe thead tr th {\n",
       "        text-align: left;\n",
       "    }\n",
       "\n",
       "    .dataframe thead tr:last-of-type th {\n",
       "        text-align: right;\n",
       "    }\n",
       "</style>\n",
       "<table border=\"1\" class=\"dataframe\">\n",
       "  <thead>\n",
       "    <tr>\n",
       "      <th></th>\n",
       "      <th colspan=\"3\" halign=\"left\">days_since_prior_order</th>\n",
       "      <th colspan=\"3\" halign=\"left\">total_expenditure</th>\n",
       "    </tr>\n",
       "    <tr>\n",
       "      <th></th>\n",
       "      <th>min</th>\n",
       "      <th>mean</th>\n",
       "      <th>max</th>\n",
       "      <th>min</th>\n",
       "      <th>mean</th>\n",
       "      <th>max</th>\n",
       "    </tr>\n",
       "    <tr>\n",
       "      <th>age_group</th>\n",
       "      <th></th>\n",
       "      <th></th>\n",
       "      <th></th>\n",
       "      <th></th>\n",
       "      <th></th>\n",
       "      <th></th>\n",
       "    </tr>\n",
       "  </thead>\n",
       "  <tbody>\n",
       "    <tr>\n",
       "      <th>Adults</th>\n",
       "      <td>0.0</td>\n",
       "      <td>10.207296</td>\n",
       "      <td>30.0</td>\n",
       "      <td>0.99</td>\n",
       "      <td>78.723842</td>\n",
       "      <td>1092.2</td>\n",
       "    </tr>\n",
       "    <tr>\n",
       "      <th>Elderly</th>\n",
       "      <td>0.0</td>\n",
       "      <td>10.193160</td>\n",
       "      <td>30.0</td>\n",
       "      <td>0.99</td>\n",
       "      <td>78.421160</td>\n",
       "      <td>787.0</td>\n",
       "    </tr>\n",
       "    <tr>\n",
       "      <th>Young Adults</th>\n",
       "      <td>0.0</td>\n",
       "      <td>10.220646</td>\n",
       "      <td>30.0</td>\n",
       "      <td>1.00</td>\n",
       "      <td>79.087940</td>\n",
       "      <td>842.1</td>\n",
       "    </tr>\n",
       "  </tbody>\n",
       "</table>\n",
       "</div>"
      ],
      "text/plain": [
       "             days_since_prior_order                  total_expenditure  \\\n",
       "                                min       mean   max               min   \n",
       "age_group                                                                \n",
       "Adults                          0.0  10.207296  30.0              0.99   \n",
       "Elderly                         0.0  10.193160  30.0              0.99   \n",
       "Young Adults                    0.0  10.220646  30.0              1.00   \n",
       "\n",
       "                                 \n",
       "                   mean     max  \n",
       "age_group                        \n",
       "Adults        78.723842  1092.2  \n",
       "Elderly       78.421160   787.0  \n",
       "Young Adults  79.087940   842.1  "
      ]
     },
     "execution_count": 34,
     "metadata": {},
     "output_type": "execute_result"
    }
   ],
   "source": [
    "# max, min, mean by age category\n",
    "aggregations_by_age_cat = df_new_subset.groupby('age_group').agg({'days_since_prior_order' : ['min', 'mean', 'max'], \n",
    "                                                                  'total_expenditure' : ['min', 'mean', 'max']})\n",
    "# Check\n",
    "aggregations_by_age_cat"
   ]
  },
  {
   "cell_type": "markdown",
   "id": "d761f046-7900-40f1-9f2b-fbee594fc02e",
   "metadata": {},
   "source": [
    "#### Answer: From the above data it is obvious that the average user_frequency and expenditure are more of less same among all age groups"
   ]
  },
  {
   "cell_type": "markdown",
   "id": "3519153f-1ad4-47e0-ab82-1cfebc40f4b9",
   "metadata": {},
   "source": [
    "### 7.2: Descriptive statistics of usage frequency and expenditure based on income groups"
   ]
  },
  {
   "cell_type": "code",
   "execution_count": 35,
   "id": "ceedc483-6f18-4eb8-bd05-61f0eba3c6c5",
   "metadata": {},
   "outputs": [
    {
     "data": {
      "text/html": [
       "<div>\n",
       "<style scoped>\n",
       "    .dataframe tbody tr th:only-of-type {\n",
       "        vertical-align: middle;\n",
       "    }\n",
       "\n",
       "    .dataframe tbody tr th {\n",
       "        vertical-align: top;\n",
       "    }\n",
       "\n",
       "    .dataframe thead tr th {\n",
       "        text-align: left;\n",
       "    }\n",
       "\n",
       "    .dataframe thead tr:last-of-type th {\n",
       "        text-align: right;\n",
       "    }\n",
       "</style>\n",
       "<table border=\"1\" class=\"dataframe\">\n",
       "  <thead>\n",
       "    <tr>\n",
       "      <th></th>\n",
       "      <th colspan=\"3\" halign=\"left\">days_since_prior_order</th>\n",
       "      <th colspan=\"3\" halign=\"left\">total_expenditure</th>\n",
       "    </tr>\n",
       "    <tr>\n",
       "      <th></th>\n",
       "      <th>min</th>\n",
       "      <th>mean</th>\n",
       "      <th>max</th>\n",
       "      <th>min</th>\n",
       "      <th>mean</th>\n",
       "      <th>max</th>\n",
       "    </tr>\n",
       "    <tr>\n",
       "      <th>income_group</th>\n",
       "      <th></th>\n",
       "      <th></th>\n",
       "      <th></th>\n",
       "      <th></th>\n",
       "      <th></th>\n",
       "      <th></th>\n",
       "    </tr>\n",
       "  </thead>\n",
       "  <tbody>\n",
       "    <tr>\n",
       "      <th>High</th>\n",
       "      <td>0.0</td>\n",
       "      <td>10.091292</td>\n",
       "      <td>30.0</td>\n",
       "      <td>0.99</td>\n",
       "      <td>83.867538</td>\n",
       "      <td>1092.2</td>\n",
       "    </tr>\n",
       "    <tr>\n",
       "      <th>Low</th>\n",
       "      <td>0.0</td>\n",
       "      <td>10.831101</td>\n",
       "      <td>30.0</td>\n",
       "      <td>1.00</td>\n",
       "      <td>52.629435</td>\n",
       "      <td>875.0</td>\n",
       "    </tr>\n",
       "    <tr>\n",
       "      <th>Medium</th>\n",
       "      <td>0.0</td>\n",
       "      <td>10.118111</td>\n",
       "      <td>30.0</td>\n",
       "      <td>0.99</td>\n",
       "      <td>81.994847</td>\n",
       "      <td>852.5</td>\n",
       "    </tr>\n",
       "  </tbody>\n",
       "</table>\n",
       "</div>"
      ],
      "text/plain": [
       "             days_since_prior_order                  total_expenditure  \\\n",
       "                                min       mean   max               min   \n",
       "income_group                                                             \n",
       "High                            0.0  10.091292  30.0              0.99   \n",
       "Low                             0.0  10.831101  30.0              1.00   \n",
       "Medium                          0.0  10.118111  30.0              0.99   \n",
       "\n",
       "                                 \n",
       "                   mean     max  \n",
       "income_group                     \n",
       "High          83.867538  1092.2  \n",
       "Low           52.629435   875.0  \n",
       "Medium        81.994847   852.5  "
      ]
     },
     "execution_count": 35,
     "metadata": {},
     "output_type": "execute_result"
    }
   ],
   "source": [
    "# max, min, mean by age category\n",
    "aggregations_by_income_cat = df_new_subset.groupby('income_group').agg({'days_since_prior_order' : ['min', 'mean', 'max'],\n",
    "                                                                        'total_expenditure' : ['min', 'mean', 'max']})\n",
    "# Check\n",
    "aggregations_by_income_cat"
   ]
  },
  {
   "cell_type": "markdown",
   "id": "d0bca073-ca8f-4eb4-bb6c-5fd77b3da7cc",
   "metadata": {},
   "source": [
    "#### Answer: Average expenditure of low income group is comparitivey smaller than medium and high income groups. User frequency pattern remains the same"
   ]
  },
  {
   "cell_type": "markdown",
   "id": "5063c70c-5560-4552-8a6e-0acca9487552",
   "metadata": {},
   "source": [
    "### 7.3: Descriptive statistics of usage frequency and expenditure based on family dependancy. "
   ]
  },
  {
   "cell_type": "code",
   "execution_count": 36,
   "id": "d44fc06a-1de9-4949-a224-ebf2ef6b1659",
   "metadata": {},
   "outputs": [
    {
     "data": {
      "text/html": [
       "<div>\n",
       "<style scoped>\n",
       "    .dataframe tbody tr th:only-of-type {\n",
       "        vertical-align: middle;\n",
       "    }\n",
       "\n",
       "    .dataframe tbody tr th {\n",
       "        vertical-align: top;\n",
       "    }\n",
       "\n",
       "    .dataframe thead tr th {\n",
       "        text-align: left;\n",
       "    }\n",
       "\n",
       "    .dataframe thead tr:last-of-type th {\n",
       "        text-align: right;\n",
       "    }\n",
       "</style>\n",
       "<table border=\"1\" class=\"dataframe\">\n",
       "  <thead>\n",
       "    <tr>\n",
       "      <th></th>\n",
       "      <th colspan=\"3\" halign=\"left\">days_since_prior_order</th>\n",
       "      <th colspan=\"3\" halign=\"left\">total_expenditure</th>\n",
       "    </tr>\n",
       "    <tr>\n",
       "      <th></th>\n",
       "      <th>min</th>\n",
       "      <th>mean</th>\n",
       "      <th>max</th>\n",
       "      <th>min</th>\n",
       "      <th>mean</th>\n",
       "      <th>max</th>\n",
       "    </tr>\n",
       "    <tr>\n",
       "      <th>dependants_flag</th>\n",
       "      <th></th>\n",
       "      <th></th>\n",
       "      <th></th>\n",
       "      <th></th>\n",
       "      <th></th>\n",
       "      <th></th>\n",
       "    </tr>\n",
       "  </thead>\n",
       "  <tbody>\n",
       "    <tr>\n",
       "      <th>Has dependants</th>\n",
       "      <td>0.0</td>\n",
       "      <td>10.208390</td>\n",
       "      <td>30.0</td>\n",
       "      <td>0.99</td>\n",
       "      <td>78.776615</td>\n",
       "      <td>1092.2</td>\n",
       "    </tr>\n",
       "    <tr>\n",
       "      <th>No dependants</th>\n",
       "      <td>0.0</td>\n",
       "      <td>10.198976</td>\n",
       "      <td>30.0</td>\n",
       "      <td>0.99</td>\n",
       "      <td>78.516227</td>\n",
       "      <td>875.0</td>\n",
       "    </tr>\n",
       "  </tbody>\n",
       "</table>\n",
       "</div>"
      ],
      "text/plain": [
       "                days_since_prior_order                  total_expenditure  \\\n",
       "                                   min       mean   max               min   \n",
       "dependants_flag                                                             \n",
       "Has dependants                     0.0  10.208390  30.0              0.99   \n",
       "No dependants                      0.0  10.198976  30.0              0.99   \n",
       "\n",
       "                                    \n",
       "                      mean     max  \n",
       "dependants_flag                     \n",
       "Has dependants   78.776615  1092.2  \n",
       "No dependants    78.516227   875.0  "
      ]
     },
     "execution_count": 36,
     "metadata": {},
     "output_type": "execute_result"
    }
   ],
   "source": [
    "# max, min, mean by dependants category\n",
    "aggregations_by_dependents_cat = df_new_subset.groupby('dependants_flag').agg({'days_since_prior_order' : ['min', 'mean', 'max'],\n",
    "                                                                               'total_expenditure' : ['min', 'mean', 'max']})\n",
    "# Check\n",
    "aggregations_by_dependents_cat"
   ]
  },
  {
   "cell_type": "markdown",
   "id": "57af645a-8e01-4a57-9387-f69edd2e14d5",
   "metadata": {},
   "source": [
    "#### Answer: The expenditure and user frequency remains the same with people with or without dependants"
   ]
  },
  {
   "cell_type": "markdown",
   "id": "dca32cbf-dd92-492a-bc52-676eea5a2edf",
   "metadata": {},
   "source": [
    "## Step 8: Compare your customer profiles with regions and departments"
   ]
  },
  {
   "cell_type": "markdown",
   "id": "bde5f74d-a3eb-406e-9055-7b70dbdc48dd",
   "metadata": {},
   "source": [
    "### 8.1: Comparing customer profiles with Regions"
   ]
  },
  {
   "cell_type": "markdown",
   "id": "b5aa0657-0f4a-4bd3-ae7a-36594cf78494",
   "metadata": {},
   "source": [
    "#### 8.1.1: Age_group Vs Regions"
   ]
  },
  {
   "cell_type": "code",
   "execution_count": 37,
   "id": "5b64f342-17c0-4a9c-9a7b-67ea90e48c44",
   "metadata": {},
   "outputs": [
    {
     "data": {
      "text/html": [
       "<div>\n",
       "<style scoped>\n",
       "    .dataframe tbody tr th:only-of-type {\n",
       "        vertical-align: middle;\n",
       "    }\n",
       "\n",
       "    .dataframe tbody tr th {\n",
       "        vertical-align: top;\n",
       "    }\n",
       "\n",
       "    .dataframe thead th {\n",
       "        text-align: right;\n",
       "    }\n",
       "</style>\n",
       "<table border=\"1\" class=\"dataframe\">\n",
       "  <thead>\n",
       "    <tr style=\"text-align: right;\">\n",
       "      <th>age_group</th>\n",
       "      <th>Adults</th>\n",
       "      <th>Elderly</th>\n",
       "      <th>Young Adults</th>\n",
       "    </tr>\n",
       "    <tr>\n",
       "      <th>region</th>\n",
       "      <th></th>\n",
       "      <th></th>\n",
       "      <th></th>\n",
       "    </tr>\n",
       "  </thead>\n",
       "  <tbody>\n",
       "    <tr>\n",
       "      <th>Midwest</th>\n",
       "      <td>4001629</td>\n",
       "      <td>1904046</td>\n",
       "      <td>1355838</td>\n",
       "    </tr>\n",
       "    <tr>\n",
       "      <th>Northeast</th>\n",
       "      <td>2955894</td>\n",
       "      <td>1484807</td>\n",
       "      <td>1023984</td>\n",
       "    </tr>\n",
       "    <tr>\n",
       "      <th>South</th>\n",
       "      <td>5642027</td>\n",
       "      <td>2708461</td>\n",
       "      <td>1960651</td>\n",
       "    </tr>\n",
       "    <tr>\n",
       "      <th>West</th>\n",
       "      <td>4351867</td>\n",
       "      <td>2098230</td>\n",
       "      <td>1477130</td>\n",
       "    </tr>\n",
       "  </tbody>\n",
       "</table>\n",
       "</div>"
      ],
      "text/plain": [
       "age_group   Adults  Elderly  Young Adults\n",
       "region                                   \n",
       "Midwest    4001629  1904046       1355838\n",
       "Northeast  2955894  1484807       1023984\n",
       "South      5642027  2708461       1960651\n",
       "West       4351867  2098230       1477130"
      ]
     },
     "execution_count": 37,
     "metadata": {},
     "output_type": "execute_result"
    }
   ],
   "source": [
    "# compare 'age_group' and 'region' using crosstab\n",
    "ct_age_region = pd.crosstab(df_insta_new['region'], df_insta_new['age_group'], dropna = False)\n",
    "ct_age_region"
   ]
  },
  {
   "cell_type": "code",
   "execution_count": 38,
   "id": "b2d943c1-1f8a-4c92-9f74-e24a10231681",
   "metadata": {},
   "outputs": [
    {
     "data": {
      "image/png": "[encoded data removed]",
      "text/plain": [
       "<Figure size 1000x600 with 1 Axes>"
      ]
     },
     "metadata": {},
     "output_type": "display_data"
    }
   ],
   "source": [
    "#plt.style.use('seaborn-v0_8-dark-palette')\n",
    "ct_age_region = ct_age_region.sort_values(['Adults'], ascending=False)\n",
    "mycolors = [\"#372549\", \"#774c60\", \"#b75d69\"]\n",
    "ct_age_region.plot(kind='bar',  figsize=(10, 6), color = mycolors)\n",
    "plt.title('Distribution of age of customers by region')\n",
    "plt.xlabel('U.S. Regions')\n",
    "plt.ylabel('Number of Customers per Age group')\n",
    "plt.legend(title = 'Age Groups')\n",
    "plt.xticks(rotation=360, ha='center')\n",
    "plt.savefig(os.path.join(path, 'Analysis', 'Visualizations', 'bar_chart_age_region.png'))"
   ]
  },
  {
   "cell_type": "markdown",
   "id": "968b2154-5f7c-4d9a-bd49-b7ab15f04e72",
   "metadata": {},
   "source": [
    "#### 8.1.2: Income_group Vs Regions"
   ]
  },
  {
   "cell_type": "code",
   "execution_count": 39,
   "id": "4a6e1db7-f76d-4530-9b17-80e6481a2d4a",
   "metadata": {},
   "outputs": [
    {
     "data": {
      "text/html": [
       "<div>\n",
       "<style scoped>\n",
       "    .dataframe tbody tr th:only-of-type {\n",
       "        vertical-align: middle;\n",
       "    }\n",
       "\n",
       "    .dataframe tbody tr th {\n",
       "        vertical-align: top;\n",
       "    }\n",
       "\n",
       "    .dataframe thead th {\n",
       "        text-align: right;\n",
       "    }\n",
       "</style>\n",
       "<table border=\"1\" class=\"dataframe\">\n",
       "  <thead>\n",
       "    <tr style=\"text-align: right;\">\n",
       "      <th>income_group</th>\n",
       "      <th>High</th>\n",
       "      <th>Low</th>\n",
       "      <th>Medium</th>\n",
       "    </tr>\n",
       "    <tr>\n",
       "      <th>region</th>\n",
       "      <th></th>\n",
       "      <th></th>\n",
       "      <th></th>\n",
       "    </tr>\n",
       "  </thead>\n",
       "  <tbody>\n",
       "    <tr>\n",
       "      <th>Midwest</th>\n",
       "      <td>3400093</td>\n",
       "      <td>783764</td>\n",
       "      <td>3077656</td>\n",
       "    </tr>\n",
       "    <tr>\n",
       "      <th>Northeast</th>\n",
       "      <td>2516484</td>\n",
       "      <td>587137</td>\n",
       "      <td>2361064</td>\n",
       "    </tr>\n",
       "    <tr>\n",
       "      <th>South</th>\n",
       "      <td>4663945</td>\n",
       "      <td>1142572</td>\n",
       "      <td>4504622</td>\n",
       "    </tr>\n",
       "    <tr>\n",
       "      <th>West</th>\n",
       "      <td>3626880</td>\n",
       "      <td>849081</td>\n",
       "      <td>3451266</td>\n",
       "    </tr>\n",
       "  </tbody>\n",
       "</table>\n",
       "</div>"
      ],
      "text/plain": [
       "income_group     High      Low   Medium\n",
       "region                                 \n",
       "Midwest       3400093   783764  3077656\n",
       "Northeast     2516484   587137  2361064\n",
       "South         4663945  1142572  4504622\n",
       "West          3626880   849081  3451266"
      ]
     },
     "execution_count": 39,
     "metadata": {},
     "output_type": "execute_result"
    }
   ],
   "source": [
    "# compare 'income_group' and 'region' using crosstab\n",
    "ct_income_region = pd.crosstab(df_insta_new['region'], df_insta_new['income_group'], dropna = False)\n",
    "ct_income_region"
   ]
  },
  {
   "cell_type": "code",
   "execution_count": 40,
   "id": "c6347f64-44e5-456e-a312-e6ec2987c6a4",
   "metadata": {},
   "outputs": [
    {
     "data": {
      "image/png": "[encoded data removed]",
      "text/plain": [
       "<Figure size 1000x600 with 1 Axes>"
      ]
     },
     "metadata": {},
     "output_type": "display_data"
    }
   ],
   "source": [
    "#plt.style.use('seaborn-v0_8-dark-palette')\n",
    "ct_income_region = ct_income_region.sort_values(['High'], ascending=True)\n",
    "mycolors = [\"#774c60\", \"#b75d69\", \"#eacdc2\"]\n",
    "ct_income_region.plot(kind='bar', figsize=(10, 6), color = mycolors)\n",
    "plt.title('Distribution of income of customers by region')\n",
    "plt.xlabel('U.S. Regions')\n",
    "plt.ylabel('Number of Customers per income group')\n",
    "plt.legend(title = 'Income Classification')\n",
    "plt.xticks(rotation=360, ha='center')\n",
    "plt.savefig(os.path.join(path, 'Analysis', 'Visualizations', 'bar_chart_income_region.png'))"
   ]
  },
  {
   "cell_type": "markdown",
   "id": "c8e6edc0-b36a-49d6-aca0-5c928d4345b5",
   "metadata": {},
   "source": [
    "#### 8.1.3: Dependants Vs Regions"
   ]
  },
  {
   "cell_type": "code",
   "execution_count": 41,
   "id": "3881e737-13c4-4e59-aee5-a14396fc3659",
   "metadata": {},
   "outputs": [
    {
     "data": {
      "text/html": [
       "<div>\n",
       "<style scoped>\n",
       "    .dataframe tbody tr th:only-of-type {\n",
       "        vertical-align: middle;\n",
       "    }\n",
       "\n",
       "    .dataframe tbody tr th {\n",
       "        vertical-align: top;\n",
       "    }\n",
       "\n",
       "    .dataframe thead th {\n",
       "        text-align: right;\n",
       "    }\n",
       "</style>\n",
       "<table border=\"1\" class=\"dataframe\">\n",
       "  <thead>\n",
       "    <tr style=\"text-align: right;\">\n",
       "      <th>dependants_flag</th>\n",
       "      <th>Has dependants</th>\n",
       "      <th>No dependants</th>\n",
       "    </tr>\n",
       "    <tr>\n",
       "      <th>region</th>\n",
       "      <th></th>\n",
       "      <th></th>\n",
       "    </tr>\n",
       "  </thead>\n",
       "  <tbody>\n",
       "    <tr>\n",
       "      <th>Midwest</th>\n",
       "      <td>5438697</td>\n",
       "      <td>1822816</td>\n",
       "    </tr>\n",
       "    <tr>\n",
       "      <th>Northeast</th>\n",
       "      <td>4110203</td>\n",
       "      <td>1354482</td>\n",
       "    </tr>\n",
       "    <tr>\n",
       "      <th>South</th>\n",
       "      <td>7729206</td>\n",
       "      <td>2581933</td>\n",
       "    </tr>\n",
       "    <tr>\n",
       "      <th>West</th>\n",
       "      <td>5946777</td>\n",
       "      <td>1980450</td>\n",
       "    </tr>\n",
       "  </tbody>\n",
       "</table>\n",
       "</div>"
      ],
      "text/plain": [
       "dependants_flag  Has dependants  No dependants\n",
       "region                                        \n",
       "Midwest                 5438697        1822816\n",
       "Northeast               4110203        1354482\n",
       "South                   7729206        2581933\n",
       "West                    5946777        1980450"
      ]
     },
     "execution_count": 41,
     "metadata": {},
     "output_type": "execute_result"
    }
   ],
   "source": [
    "# compare 'dependants' and 'region' using crosstab\n",
    "ct_dependants_region = pd.crosstab(df_insta_new['region'], df_insta_new['dependants_flag'], dropna = False)\n",
    "ct_dependants_region"
   ]
  },
  {
   "cell_type": "code",
   "execution_count": 42,
   "id": "4f22a83a-cad1-4036-9aa5-335b202192be",
   "metadata": {},
   "outputs": [
    {
     "data": {
      "image/png": "[encoded data removed]",
      "text/plain": [
       "<Figure size 1000x600 with 1 Axes>"
      ]
     },
     "metadata": {},
     "output_type": "display_data"
    }
   ],
   "source": [
    "#plt.style.use('seaborn-v0_8-dark-palette')\n",
    "ct_dependants_region = ct_dependants_region.sort_values(['Has dependants'], ascending=True)\n",
    "mycolors = [\"#a68a64\", \"#582f0e\"]\n",
    "ct_dependants_region.plot(kind='bar', stacked = True, figsize=(10, 6), color = mycolors)\n",
    "plt.title('Distribution of dependants of customers by region')\n",
    "plt.xlabel('U.S. Regions')\n",
    "plt.ylabel('Number of Customers with or without dependants')\n",
    "plt.legend(title = 'Dependants flag')\n",
    "plt.xticks(rotation=360, ha='center')\n",
    "plt.savefig(os.path.join(path, 'Analysis', 'Visualizations', 'bar_chart_depend_region.png'))"
   ]
  },
  {
   "cell_type": "markdown",
   "id": "506dd9be-9f87-45e4-9624-72ca23218153",
   "metadata": {},
   "source": [
    "### 8.2: Comparing customer profiles with departments"
   ]
  },
  {
   "cell_type": "code",
   "execution_count": 43,
   "id": "22ea1812-75cc-4e13-9490-89f995033145",
   "metadata": {},
   "outputs": [
    {
     "data": {
      "text/html": [
       "<div>\n",
       "<style scoped>\n",
       "    .dataframe tbody tr th:only-of-type {\n",
       "        vertical-align: middle;\n",
       "    }\n",
       "\n",
       "    .dataframe tbody tr th {\n",
       "        vertical-align: top;\n",
       "    }\n",
       "\n",
       "    .dataframe thead th {\n",
       "        text-align: right;\n",
       "    }\n",
       "</style>\n",
       "<table border=\"1\" class=\"dataframe\">\n",
       "  <thead>\n",
       "    <tr style=\"text-align: right;\">\n",
       "      <th></th>\n",
       "      <th>department_id</th>\n",
       "      <th>department</th>\n",
       "    </tr>\n",
       "  </thead>\n",
       "  <tbody>\n",
       "    <tr>\n",
       "      <th>0</th>\n",
       "      <td>1</td>\n",
       "      <td>frozen</td>\n",
       "    </tr>\n",
       "    <tr>\n",
       "      <th>1</th>\n",
       "      <td>2</td>\n",
       "      <td>other</td>\n",
       "    </tr>\n",
       "    <tr>\n",
       "      <th>2</th>\n",
       "      <td>3</td>\n",
       "      <td>bakery</td>\n",
       "    </tr>\n",
       "    <tr>\n",
       "      <th>3</th>\n",
       "      <td>4</td>\n",
       "      <td>produce</td>\n",
       "    </tr>\n",
       "    <tr>\n",
       "      <th>4</th>\n",
       "      <td>5</td>\n",
       "      <td>alcohol</td>\n",
       "    </tr>\n",
       "    <tr>\n",
       "      <th>5</th>\n",
       "      <td>6</td>\n",
       "      <td>international</td>\n",
       "    </tr>\n",
       "    <tr>\n",
       "      <th>6</th>\n",
       "      <td>7</td>\n",
       "      <td>beverages</td>\n",
       "    </tr>\n",
       "    <tr>\n",
       "      <th>7</th>\n",
       "      <td>8</td>\n",
       "      <td>pets</td>\n",
       "    </tr>\n",
       "    <tr>\n",
       "      <th>8</th>\n",
       "      <td>9</td>\n",
       "      <td>dry goods pasta</td>\n",
       "    </tr>\n",
       "    <tr>\n",
       "      <th>9</th>\n",
       "      <td>10</td>\n",
       "      <td>bulk</td>\n",
       "    </tr>\n",
       "    <tr>\n",
       "      <th>10</th>\n",
       "      <td>11</td>\n",
       "      <td>personal care</td>\n",
       "    </tr>\n",
       "    <tr>\n",
       "      <th>11</th>\n",
       "      <td>12</td>\n",
       "      <td>meat seafood</td>\n",
       "    </tr>\n",
       "    <tr>\n",
       "      <th>12</th>\n",
       "      <td>13</td>\n",
       "      <td>pantry</td>\n",
       "    </tr>\n",
       "    <tr>\n",
       "      <th>13</th>\n",
       "      <td>14</td>\n",
       "      <td>breakfast</td>\n",
       "    </tr>\n",
       "    <tr>\n",
       "      <th>14</th>\n",
       "      <td>15</td>\n",
       "      <td>canned goods</td>\n",
       "    </tr>\n",
       "    <tr>\n",
       "      <th>15</th>\n",
       "      <td>16</td>\n",
       "      <td>dairy eggs</td>\n",
       "    </tr>\n",
       "    <tr>\n",
       "      <th>16</th>\n",
       "      <td>17</td>\n",
       "      <td>household</td>\n",
       "    </tr>\n",
       "    <tr>\n",
       "      <th>17</th>\n",
       "      <td>18</td>\n",
       "      <td>babies</td>\n",
       "    </tr>\n",
       "    <tr>\n",
       "      <th>18</th>\n",
       "      <td>19</td>\n",
       "      <td>snacks</td>\n",
       "    </tr>\n",
       "    <tr>\n",
       "      <th>19</th>\n",
       "      <td>20</td>\n",
       "      <td>deli</td>\n",
       "    </tr>\n",
       "    <tr>\n",
       "      <th>20</th>\n",
       "      <td>21</td>\n",
       "      <td>missing</td>\n",
       "    </tr>\n",
       "  </tbody>\n",
       "</table>\n",
       "</div>"
      ],
      "text/plain": [
       "    department_id       department\n",
       "0               1           frozen\n",
       "1               2            other\n",
       "2               3           bakery\n",
       "3               4          produce\n",
       "4               5          alcohol\n",
       "5               6    international\n",
       "6               7        beverages\n",
       "7               8             pets\n",
       "8               9  dry goods pasta\n",
       "9              10             bulk\n",
       "10             11    personal care\n",
       "11             12     meat seafood\n",
       "12             13           pantry\n",
       "13             14        breakfast\n",
       "14             15     canned goods\n",
       "15             16       dairy eggs\n",
       "16             17        household\n",
       "17             18           babies\n",
       "18             19           snacks\n",
       "19             20             deli\n",
       "20             21          missing"
      ]
     },
     "execution_count": 43,
     "metadata": {},
     "output_type": "execute_result"
    }
   ],
   "source": [
    "# import the file departments_wrangled.csv into the dataframe\n",
    "df_dept = pd.read_csv(os.path.join(path, 'Data', 'Prepared Data', 'departments_wrangled.csv'), index_col = False)\n",
    "# Rename the column Unnamed: 0 to department id\n",
    "df_dept = df_dept.rename(columns = {'Unnamed: 0' : 'department_id' })\n",
    "df_dept"
   ]
  },
  {
   "cell_type": "markdown",
   "id": "2f93774b-84a5-4463-8d12-d00a8c1c19d6",
   "metadata": {},
   "source": [
    "##### Profiling the column 'department'"
   ]
  },
  {
   "cell_type": "code",
   "execution_count": 44,
   "id": "e0bff795-b8fe-48a8-b806-b237081b145b",
   "metadata": {},
   "outputs": [],
   "source": [
    "# merge the dataframes df_insta_new and df_dept\n",
    "df_final_instacart = df_insta_new.merge(df_dept, on = 'department_id', indicator = 'merge_dept')"
   ]
  },
  {
   "cell_type": "code",
   "execution_count": 45,
   "id": "42477d5a-d739-4d9b-9340-d46d46befc95",
   "metadata": {},
   "outputs": [],
   "source": [
    "#df_final_instacart[['user_id', 'order_number','age_group', 'income_group', 'dependants_flag', 'department_id','department','department_types']].head(10)"
   ]
  },
  {
   "cell_type": "code",
   "execution_count": 54,
   "id": "bdaa514c-4cd3-4467-8094-02e6e0e9754c",
   "metadata": {},
   "outputs": [
    {
     "data": {
      "text/plain": [
       "department_types\n",
       "Produce            9079273\n",
       "Processed foods    7943571\n",
       "Breakfast          5848032\n",
       "Pantry             3616915\n",
       "Beverages          2716528\n",
       "Others             1760245\n",
       "Name: count, dtype: int64"
      ]
     },
     "execution_count": 54,
     "metadata": {},
     "output_type": "execute_result"
    }
   ],
   "source": [
    "# create new categories of department\n",
    "beverages = ['beverages', 'alcohol']\n",
    "breakfast_foods = ['dairy eggs','breakfast']\n",
    "pantry_foods = ['dry goods pasta', 'pantry','canned goods']\n",
    "processed_foods = ['frozen','international','meat seafood','snacks', 'deli', 'bakery']\n",
    "other_merchandise = ['other', 'pets', 'bulk', 'personal care', 'household', 'babies', 'missing']\n",
    "produce = ['produce']\n",
    "\n",
    "#classifying the contents of department into 3 sections\n",
    "df_final_instacart.loc[df_final_instacart['department'].isin(beverages), 'department_types'] = 'Beverages'\n",
    "df_final_instacart.loc[df_final_instacart['department'].isin(breakfast_foods), 'department_types'] = 'Breakfast'\n",
    "df_final_instacart.loc[df_final_instacart['department'].isin(pantry_foods), 'department_types'] = 'Pantry'\n",
    "df_final_instacart.loc[df_final_instacart['department'].isin(produce), 'department_types'] = 'Produce'\n",
    "df_final_instacart.loc[df_final_instacart['department'].isin(processed_foods), 'department_types'] = 'Processed foods'\n",
    "df_final_instacart.loc[df_final_instacart['department'].isin(other_merchandise), 'department_types'] = 'Others'\n",
    "df_final_instacart['department_types'].value_counts(dropna = False)"
   ]
  },
  {
   "cell_type": "markdown",
   "id": "1ac31e4a-a81a-45ed-9330-37e28a1b2ef4",
   "metadata": {},
   "source": [
    "#### 8.2.1: Age group Vs Departments"
   ]
  },
  {
   "cell_type": "code",
   "execution_count": 55,
   "id": "a3b58857-708c-4e4f-838e-f710e0e501f1",
   "metadata": {},
   "outputs": [
    {
     "data": {
      "text/html": [
       "<div>\n",
       "<style scoped>\n",
       "    .dataframe tbody tr th:only-of-type {\n",
       "        vertical-align: middle;\n",
       "    }\n",
       "\n",
       "    .dataframe tbody tr th {\n",
       "        vertical-align: top;\n",
       "    }\n",
       "\n",
       "    .dataframe thead th {\n",
       "        text-align: right;\n",
       "    }\n",
       "</style>\n",
       "<table border=\"1\" class=\"dataframe\">\n",
       "  <thead>\n",
       "    <tr style=\"text-align: right;\">\n",
       "      <th>age_group</th>\n",
       "      <th>Adults</th>\n",
       "      <th>Elderly</th>\n",
       "      <th>Young Adults</th>\n",
       "    </tr>\n",
       "    <tr>\n",
       "      <th>department_types</th>\n",
       "      <th></th>\n",
       "      <th></th>\n",
       "      <th></th>\n",
       "    </tr>\n",
       "  </thead>\n",
       "  <tbody>\n",
       "    <tr>\n",
       "      <th>Beverages</th>\n",
       "      <td>1490222</td>\n",
       "      <td>720713</td>\n",
       "      <td>505593</td>\n",
       "    </tr>\n",
       "    <tr>\n",
       "      <th>Breakfast</th>\n",
       "      <td>3200271</td>\n",
       "      <td>1543368</td>\n",
       "      <td>1104393</td>\n",
       "    </tr>\n",
       "    <tr>\n",
       "      <th>Others</th>\n",
       "      <td>964738</td>\n",
       "      <td>463807</td>\n",
       "      <td>331700</td>\n",
       "    </tr>\n",
       "    <tr>\n",
       "      <th>Pantry</th>\n",
       "      <td>1977457</td>\n",
       "      <td>957208</td>\n",
       "      <td>682250</td>\n",
       "    </tr>\n",
       "    <tr>\n",
       "      <th>Processed foods</th>\n",
       "      <td>4346991</td>\n",
       "      <td>2102344</td>\n",
       "      <td>1494236</td>\n",
       "    </tr>\n",
       "    <tr>\n",
       "      <th>Produce</th>\n",
       "      <td>4971738</td>\n",
       "      <td>2408104</td>\n",
       "      <td>1699431</td>\n",
       "    </tr>\n",
       "  </tbody>\n",
       "</table>\n",
       "</div>"
      ],
      "text/plain": [
       "age_group          Adults  Elderly  Young Adults\n",
       "department_types                                \n",
       "Beverages         1490222   720713        505593\n",
       "Breakfast         3200271  1543368       1104393\n",
       "Others             964738   463807        331700\n",
       "Pantry            1977457   957208        682250\n",
       "Processed foods   4346991  2102344       1494236\n",
       "Produce           4971738  2408104       1699431"
      ]
     },
     "execution_count": 55,
     "metadata": {},
     "output_type": "execute_result"
    }
   ],
   "source": [
    "# compare 'age_groups' and 'department_types' using crosstab\n",
    "ct_age_dept = pd.crosstab(df_final_instacart['department_types'], df_final_instacart['age_group'], dropna = False)\n",
    "ct_age_dept"
   ]
  },
  {
   "cell_type": "code",
   "execution_count": 56,
   "id": "658dee28-b1da-4f6b-be03-6a076ef6978e",
   "metadata": {},
   "outputs": [
    {
     "data": {
      "image/png": "[encoded data removed]",
      "text/plain": [
       "<Figure size 1000x900 with 1 Axes>"
      ]
     },
     "metadata": {},
     "output_type": "display_data"
    }
   ],
   "source": [
    "mycolors = plt.cm.twilight(np.linspace(0,2,8)) \n",
    "ct_age_dept = ct_age_dept.sort_values(['Adults'], ascending=False)\n",
    "ct_age_dept.plot(kind = 'barh', color = mycolors, figsize = (10,9))\n",
    "plt.title('Customer distribution based on their age in various departments')\n",
    "plt.xlabel('Customer count based on age')\n",
    "plt.ylabel('Departments')\n",
    "plt.legend(title = 'Age Groups')\n",
    "plt.savefig(os.path.join(path, 'Analysis', 'Visualizations', 'bar_chart_dept_age.png'))"
   ]
  },
  {
   "cell_type": "markdown",
   "id": "a2ed33b3-fbe5-4e15-96d2-7a0b3d1767c7",
   "metadata": {},
   "source": [
    "#### 8.2.2: Income Vs Departments"
   ]
  },
  {
   "cell_type": "code",
   "execution_count": 57,
   "id": "570f5f2a-f5ac-4ea2-ac69-ccb4e58568ee",
   "metadata": {},
   "outputs": [
    {
     "data": {
      "text/html": [
       "<div>\n",
       "<style scoped>\n",
       "    .dataframe tbody tr th:only-of-type {\n",
       "        vertical-align: middle;\n",
       "    }\n",
       "\n",
       "    .dataframe tbody tr th {\n",
       "        vertical-align: top;\n",
       "    }\n",
       "\n",
       "    .dataframe thead th {\n",
       "        text-align: right;\n",
       "    }\n",
       "</style>\n",
       "<table border=\"1\" class=\"dataframe\">\n",
       "  <thead>\n",
       "    <tr style=\"text-align: right;\">\n",
       "      <th>income_group</th>\n",
       "      <th>High</th>\n",
       "      <th>Low</th>\n",
       "      <th>Medium</th>\n",
       "    </tr>\n",
       "    <tr>\n",
       "      <th>department_types</th>\n",
       "      <th></th>\n",
       "      <th></th>\n",
       "      <th></th>\n",
       "    </tr>\n",
       "  </thead>\n",
       "  <tbody>\n",
       "    <tr>\n",
       "      <th>Beverages</th>\n",
       "      <td>1195604</td>\n",
       "      <td>401168</td>\n",
       "      <td>1119756</td>\n",
       "    </tr>\n",
       "    <tr>\n",
       "      <th>Breakfast</th>\n",
       "      <td>2703807</td>\n",
       "      <td>593771</td>\n",
       "      <td>2550454</td>\n",
       "    </tr>\n",
       "    <tr>\n",
       "      <th>Others</th>\n",
       "      <td>814587</td>\n",
       "      <td>187959</td>\n",
       "      <td>757699</td>\n",
       "    </tr>\n",
       "    <tr>\n",
       "      <th>Pantry</th>\n",
       "      <td>1717948</td>\n",
       "      <td>309517</td>\n",
       "      <td>1589450</td>\n",
       "    </tr>\n",
       "    <tr>\n",
       "      <th>Processed foods</th>\n",
       "      <td>3538454</td>\n",
       "      <td>1043825</td>\n",
       "      <td>3361292</td>\n",
       "    </tr>\n",
       "    <tr>\n",
       "      <th>Produce</th>\n",
       "      <td>4237002</td>\n",
       "      <td>826314</td>\n",
       "      <td>4015957</td>\n",
       "    </tr>\n",
       "  </tbody>\n",
       "</table>\n",
       "</div>"
      ],
      "text/plain": [
       "income_group         High      Low   Medium\n",
       "department_types                           \n",
       "Beverages         1195604   401168  1119756\n",
       "Breakfast         2703807   593771  2550454\n",
       "Others             814587   187959   757699\n",
       "Pantry            1717948   309517  1589450\n",
       "Processed foods   3538454  1043825  3361292\n",
       "Produce           4237002   826314  4015957"
      ]
     },
     "execution_count": 57,
     "metadata": {},
     "output_type": "execute_result"
    }
   ],
   "source": [
    "# compare 'income' and 'department' using crosstab\n",
    "ct_income_dept = pd.crosstab(df_final_instacart['department_types'], df_final_instacart['income_group'], dropna = False)\n",
    "ct_income_dept"
   ]
  },
  {
   "cell_type": "code",
   "execution_count": 58,
   "id": "2021c842-5509-414a-abd2-d83dd8f1e12f",
   "metadata": {},
   "outputs": [
    {
     "data": {
      "image/png": "[encoded data removed]",
      "text/plain": [
       "<Figure size 1000x900 with 1 Axes>"
      ]
     },
     "metadata": {},
     "output_type": "display_data"
    }
   ],
   "source": [
    "#plot the relationship in a bar chart\n",
    "mycolors = plt.cm.twilight(np.linspace(0,2,8)) \n",
    "ct_income_dept = ct_income_dept.sort_values(['High'], ascending=True)\n",
    "ct_income_dept.plot(kind = 'barh', stacked = True, color = mycolors, figsize = (10,9))\n",
    "plt.title('Customer distribution based on their income in various departments')\n",
    "plt.xlabel('Customer count based on income')\n",
    "plt.ylabel('Departments')\n",
    "plt.legend(title = 'Income')\n",
    "plt.savefig(os.path.join(path, 'Analysis', 'Visualizations', 'bar_chart_dept_income.png'))"
   ]
  },
  {
   "cell_type": "markdown",
   "id": "6689b261-bd2e-4dbf-815b-0c992574b473",
   "metadata": {},
   "source": [
    "#### 8.2.3: Dependants Vs Departments"
   ]
  },
  {
   "cell_type": "code",
   "execution_count": 59,
   "id": "cf874dfa-54af-47d9-b514-b5654d211c91",
   "metadata": {},
   "outputs": [
    {
     "data": {
      "text/html": [
       "<div>\n",
       "<style scoped>\n",
       "    .dataframe tbody tr th:only-of-type {\n",
       "        vertical-align: middle;\n",
       "    }\n",
       "\n",
       "    .dataframe tbody tr th {\n",
       "        vertical-align: top;\n",
       "    }\n",
       "\n",
       "    .dataframe thead th {\n",
       "        text-align: right;\n",
       "    }\n",
       "</style>\n",
       "<table border=\"1\" class=\"dataframe\">\n",
       "  <thead>\n",
       "    <tr style=\"text-align: right;\">\n",
       "      <th>dependants_flag</th>\n",
       "      <th>Has dependants</th>\n",
       "      <th>No dependants</th>\n",
       "    </tr>\n",
       "    <tr>\n",
       "      <th>department_types</th>\n",
       "      <th></th>\n",
       "      <th></th>\n",
       "    </tr>\n",
       "  </thead>\n",
       "  <tbody>\n",
       "    <tr>\n",
       "      <th>Beverages</th>\n",
       "      <td>2034360</td>\n",
       "      <td>682168</td>\n",
       "    </tr>\n",
       "    <tr>\n",
       "      <th>Breakfast</th>\n",
       "      <td>4387224</td>\n",
       "      <td>1460808</td>\n",
       "    </tr>\n",
       "    <tr>\n",
       "      <th>Others</th>\n",
       "      <td>1323103</td>\n",
       "      <td>437142</td>\n",
       "    </tr>\n",
       "    <tr>\n",
       "      <th>Pantry</th>\n",
       "      <td>2717695</td>\n",
       "      <td>899220</td>\n",
       "    </tr>\n",
       "    <tr>\n",
       "      <th>Processed foods</th>\n",
       "      <td>5958669</td>\n",
       "      <td>1984902</td>\n",
       "    </tr>\n",
       "    <tr>\n",
       "      <th>Produce</th>\n",
       "      <td>6803832</td>\n",
       "      <td>2275441</td>\n",
       "    </tr>\n",
       "  </tbody>\n",
       "</table>\n",
       "</div>"
      ],
      "text/plain": [
       "dependants_flag   Has dependants  No dependants\n",
       "department_types                               \n",
       "Beverages                2034360         682168\n",
       "Breakfast                4387224        1460808\n",
       "Others                   1323103         437142\n",
       "Pantry                   2717695         899220\n",
       "Processed foods          5958669        1984902\n",
       "Produce                  6803832        2275441"
      ]
     },
     "execution_count": 59,
     "metadata": {},
     "output_type": "execute_result"
    }
   ],
   "source": [
    "# compare 'income' and 'department' using crosstab\n",
    "ct_dependant_dept = pd.crosstab(df_final_instacart['department_types'], df_final_instacart['dependants_flag'], dropna = False)\n",
    "ct_dependant_dept"
   ]
  },
  {
   "cell_type": "code",
   "execution_count": 60,
   "id": "974a5c2f-c123-4808-92d4-af714fd6c8dc",
   "metadata": {},
   "outputs": [
    {
     "data": {
      "image/png": "[encoded data removed]",
      "text/plain": [
       "<Figure size 1000x900 with 1 Axes>"
      ]
     },
     "metadata": {},
     "output_type": "display_data"
    }
   ],
   "source": [
    "#plot the relationship in a bar chart\n",
    "mycolors = plt.cm.twilight(np.linspace(0,2,8)) \n",
    "ct_dependant_dept = ct_dependant_dept.sort_values(['Has dependants'], ascending=True)\n",
    "ct_dependant_dept.plot(kind = 'barh', stacked = True, color = mycolors, figsize = (10,9))\n",
    "plt.title('Customer distribution based on their dependants in various departments')\n",
    "plt.xlabel('Customer count based on dependants')\n",
    "plt.ylabel('Departments')\n",
    "plt.legend(title = 'Dependants Flag')\n",
    "plt.savefig(os.path.join(path, 'Analysis', 'Visualizations', 'bar_chart_dept_dependant.png'))"
   ]
  },
  {
   "cell_type": "code",
   "execution_count": 61,
   "id": "128302b3-528a-475f-bfe6-75dcf6dc9049",
   "metadata": {},
   "outputs": [],
   "source": [
    "#export the final dataframe to a csv file\n",
    "df_final_instacart.to_pickle(os.path.join(path, 'Data','Prepared Data', 'instacart_final_dataset.pkl'))"
   ]
  }
 ],
 "metadata": {
  "kernelspec": {
   "display_name": "Python 3 (ipykernel)",
   "language": "python",
   "name": "python3"
  },
  "language_info": {
   "codemirror_mode": {
    "name": "ipython",
    "version": 3
   },
   "file_extension": ".py",
   "mimetype": "text/x-python",
   "name": "python",
   "nbconvert_exporter": "python",
   "pygments_lexer": "ipython3",
   "version": "3.11.7"
  }
 },
 "nbformat": 4,
 "nbformat_minor": 5
}
