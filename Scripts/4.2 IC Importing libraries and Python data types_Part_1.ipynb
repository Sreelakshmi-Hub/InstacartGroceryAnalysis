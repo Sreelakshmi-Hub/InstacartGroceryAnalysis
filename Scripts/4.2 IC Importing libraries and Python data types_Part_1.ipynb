{
 "cells": [
  {
   "cell_type": "markdown",
   "id": "dffa056b-e0a0-48b9-8d2f-096f05dd1335",
   "metadata": {},
   "source": [
    "#01. Importing libraries"
   ]
  },
  {
   "cell_type": "code",
   "execution_count": 1,
   "id": "f8b9c7f6-95fb-48d6-9e98-5b52f793c12d",
   "metadata": {},
   "outputs": [],
   "source": [
    "# Import libraries\n",
    "import pandas as pd\n",
    "import numpy as np\n",
    "import os"
   ]
  },
  {
   "cell_type": "markdown",
   "id": "0f26a83d-cc79-4533-bc78-cc64f8c51a08",
   "metadata": {},
   "source": [
    "#02. Python Data types"
   ]
  },
  {
   "cell_type": "markdown",
   "id": "a757b60a-04d9-41cd-873b-da7b04e5af87",
   "metadata": {},
   "source": [
    "#Step 7"
   ]
  },
  {
   "cell_type": "code",
   "execution_count": 9,
   "id": "bbc3776f-2897-42bd-9599-6cde7be62c87",
   "metadata": {},
   "outputs": [],
   "source": [
    "#using + operator\n",
    "Result1 = 50 + 50"
   ]
  },
  {
   "cell_type": "code",
   "execution_count": 3,
   "id": "b2cdb812-698b-4f18-a3c4-a81879bab84d",
   "metadata": {},
   "outputs": [],
   "source": [
    "x=200"
   ]
  },
  {
   "cell_type": "code",
   "execution_count": 4,
   "id": "5ce982fe-4c25-484c-9f56-544e1222dff7",
   "metadata": {},
   "outputs": [],
   "source": [
    "y=100"
   ]
  },
  {
   "cell_type": "code",
   "execution_count": 10,
   "id": "052253f1-1f0d-44cd-bb54-bd4aa0d0f98f",
   "metadata": {},
   "outputs": [],
   "source": [
    "#using - operator\n",
    "Result2 = x-y"
   ]
  },
  {
   "cell_type": "code",
   "execution_count": 6,
   "id": "1427e42e-bb1f-4563-b6cb-8013d447a421",
   "metadata": {},
   "outputs": [],
   "source": [
    "Result3 = 0"
   ]
  },
  {
   "cell_type": "code",
   "execution_count": 11,
   "id": "bc8f037b-ba32-4954-8c1c-9717eddcb9af",
   "metadata": {},
   "outputs": [],
   "source": [
    "#using Assignment operators\n",
    "Result3 += 100"
   ]
  },
  {
   "cell_type": "code",
   "execution_count": 8,
   "id": "ba50017d-9178-4eab-b98a-98f139c49b0f",
   "metadata": {},
   "outputs": [
    {
     "name": "stdout",
     "output_type": "stream",
     "text": [
      "100\n",
      "100\n",
      "100\n"
     ]
    }
   ],
   "source": [
    "print(Result1)\n",
    "print(Result2)\n",
    "print(Result3)"
   ]
  },
  {
   "cell_type": "markdown",
   "id": "c49f1dca-fdd6-4828-8909-88080dd8d8f2",
   "metadata": {},
   "source": [
    "#Step 8"
   ]
  },
  {
   "cell_type": "code",
   "execution_count": 12,
   "id": "bb631122-fe30-4a0c-92ae-d178125e6a47",
   "metadata": {},
   "outputs": [],
   "source": [
    "f1 = 25.50"
   ]
  },
  {
   "cell_type": "code",
   "execution_count": 13,
   "id": "057841ae-1462-4385-8ea6-cd65b3f28627",
   "metadata": {},
   "outputs": [],
   "source": [
    "f2 = 2.5"
   ]
  },
  {
   "cell_type": "code",
   "execution_count": 15,
   "id": "25351bbe-767e-4e2a-89f0-7a1990137950",
   "metadata": {},
   "outputs": [
    {
     "name": "stdout",
     "output_type": "stream",
     "text": [
      "Division using Floating point numbers f1/f2 =  10.2\n"
     ]
    }
   ],
   "source": [
    "print('Division using Floating point numbers f1/f2 = ',f1/f2)"
   ]
  },
  {
   "cell_type": "markdown",
   "id": "2a0e5aa3-3868-4628-b187-f492904433a7",
   "metadata": {},
   "source": [
    "#Step 9 "
   ]
  },
  {
   "cell_type": "code",
   "execution_count": 16,
   "id": "a8e03944-002d-4a28-80da-bc20838a5e99",
   "metadata": {},
   "outputs": [],
   "source": [
    "word = 'career' + 'Foundry'"
   ]
  },
  {
   "cell_type": "code",
   "execution_count": 17,
   "id": "e343f8a6-b918-4aa4-9c1f-234ced0203c4",
   "metadata": {},
   "outputs": [
    {
     "name": "stdout",
     "output_type": "stream",
     "text": [
      "careerFoundry\n"
     ]
    }
   ],
   "source": [
    "print(word)"
   ]
  },
  {
   "cell_type": "markdown",
   "id": "fdd2ea09-7a8e-4e6f-bc4a-15b43105ddb4",
   "metadata": {},
   "source": [
    "#Step 10"
   ]
  },
  {
   "cell_type": "code",
   "execution_count": 22,
   "id": "98fbfde7-a7d6-4c6f-bdee-696763961966",
   "metadata": {},
   "outputs": [],
   "source": [
    "Sentence1 = 'Anaconda is a file- and library-management system.'"
   ]
  },
  {
   "cell_type": "code",
   "execution_count": 23,
   "id": "e988554e-e667-40e3-9e7d-4ec1a3641c5a",
   "metadata": {},
   "outputs": [],
   "source": [
    "Sentence2 = 'Jupyter is the online notebook you’ll use to write and run your Python code.'"
   ]
  },
  {
   "cell_type": "code",
   "execution_count": 24,
   "id": "72e68a47-193d-4eeb-84f9-9c260a1c3711",
   "metadata": {},
   "outputs": [
    {
     "name": "stdout",
     "output_type": "stream",
     "text": [
      "Anaconda is a file- and library-management system.Jupyter is the online notebook you’ll use to write and run your Python code.\n"
     ]
    }
   ],
   "source": [
    "print(Sentence1 + Sentence2)"
   ]
  },
  {
   "cell_type": "markdown",
   "id": "75533809-5d97-4aa1-9d82-654b98972e11",
   "metadata": {},
   "source": [
    "#Bonus Task"
   ]
  },
  {
   "cell_type": "code",
   "execution_count": 2,
   "id": "da931cf1-3134-421c-9528-88a2231ea6ca",
   "metadata": {},
   "outputs": [],
   "source": [
    "n= 'Python'"
   ]
  },
  {
   "cell_type": "code",
   "execution_count": 3,
   "id": "f290b32e-4d94-4727-b1ed-f7b9f36e1c47",
   "metadata": {},
   "outputs": [
    {
     "name": "stdout",
     "output_type": "stream",
     "text": [
      "PythonPythonPythonPythonPythonPythonPythonPythonPythonPythonPythonPythonPythonPythonPythonPythonPythonPythonPythonPythonPythonPythonPythonPythonPythonPythonPythonPythonPythonPythonPythonPythonPythonPythonPythonPythonPythonPythonPythonPythonPythonPythonPythonPythonPythonPythonPythonPythonPythonPythonPythonPythonPythonPythonPythonPythonPythonPythonPythonPythonPythonPythonPythonPythonPythonPythonPythonPythonPythonPythonPythonPythonPythonPythonPythonPythonPythonPythonPythonPythonPythonPythonPythonPythonPythonPythonPythonPythonPythonPythonPythonPythonPythonPythonPythonPythonPythonPythonPythonPython\n"
     ]
    }
   ],
   "source": [
    "print(n*100)"
   ]
  },
  {
   "cell_type": "code",
   "execution_count": null,
   "id": "b1d4d54d-9095-4ce6-be1a-ab91912ac804",
   "metadata": {},
   "outputs": [],
   "source": []
  }
 ],
 "metadata": {
  "kernelspec": {
   "display_name": "Python 3 (ipykernel)",
   "language": "python",
   "name": "python3"
  },
  "language_info": {
   "codemirror_mode": {
    "name": "ipython",
    "version": 3
   },
   "file_extension": ".py",
   "mimetype": "text/x-python",
   "name": "python",
   "nbconvert_exporter": "python",
   "pygments_lexer": "ipython3",
   "version": "3.11.7"
  }
 },
 "nbformat": 4,
 "nbformat_minor": 5
}
